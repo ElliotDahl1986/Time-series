{
 "cells": [
  {
   "cell_type": "markdown",
   "metadata": {},
   "source": [
    "## Time-series forecasting\n",
    "\n",
    "Author: Elliot Dahl\n",
    "\n",
    "Problem statement: Provide a daily forecast for the amount of traffic in a \n",
    "particular parking lot for the next month. \n",
    "\n",
    "What I have: A time series of number of counted cars in the parking lot extracted from \n",
    "images using a computer vision algorithm. \n"
   ]
  },
  {
   "cell_type": "markdown",
   "metadata": {},
   "source": [
    "# Script initialization"
   ]
  },
  {
   "cell_type": "code",
   "execution_count": 1,
   "metadata": {
    "collapsed": true
   },
   "outputs": [],
   "source": [
    "#import\n",
    "import numpy as np\n",
    "import pandas as pd\n",
    "import matplotlib as mpl\n",
    "import matplotlib.pyplot as plt\n",
    "import seaborn as sns\n",
    "%matplotlib inline"
   ]
  },
  {
   "cell_type": "code",
   "execution_count": 2,
   "metadata": {},
   "outputs": [
    {
     "name": "stdout",
     "output_type": "stream",
     "text": [
      "Python:  3.6.3 |Anaconda custom (64-bit)| (default, Oct  6 2017, 12:04:38) \n",
      "         [GCC 4.2.1 Compatible Clang 4.0.1 (tags/RELEASE_401/final)]\n",
      "Pandas:  0.20.3\n",
      "Numpy:   1.13.3\n",
      "Scipy:   0.19.1\n",
      "Sklearn: 0.19.1\n"
     ]
    }
   ],
   "source": [
    "import sys, scipy, sklearn\n",
    "print('Python:  ' + sys.version.split('\\n')[0])\n",
    "print('         ' + sys.version.split('\\n')[1])\n",
    "print('Pandas:  ' + pd.__version__)\n",
    "print('Numpy:   ' + np.__version__)\n",
    "print('Scipy:   ' + scipy.__version__)\n",
    "print('Sklearn: ' + sklearn.__version__)"
   ]
  },
  {
   "cell_type": "markdown",
   "metadata": {},
   "source": [
    "# Load data"
   ]
  },
  {
   "cell_type": "code",
   "execution_count": 3,
   "metadata": {
    "collapsed": true
   },
   "outputs": [],
   "source": [
    "ts = pd.read_csv('data.csv') #Read file into a data frame"
   ]
  },
  {
   "cell_type": "markdown",
   "metadata": {},
   "source": [
    "# Exploring the data set"
   ]
  },
  {
   "cell_type": "code",
   "execution_count": 4,
   "metadata": {},
   "outputs": [
    {
     "data": {
      "text/html": [
       "<div>\n",
       "<style>\n",
       "    .dataframe thead tr:only-child th {\n",
       "        text-align: right;\n",
       "    }\n",
       "\n",
       "    .dataframe thead th {\n",
       "        text-align: left;\n",
       "    }\n",
       "\n",
       "    .dataframe tbody tr th {\n",
       "        vertical-align: top;\n",
       "    }\n",
       "</style>\n",
       "<table border=\"1\" class=\"dataframe\">\n",
       "  <thead>\n",
       "    <tr style=\"text-align: right;\">\n",
       "      <th></th>\n",
       "      <th>date</th>\n",
       "      <th>day.of.week</th>\n",
       "      <th>car.count</th>\n",
       "      <th>weather</th>\n",
       "      <th>cloud.indicator</th>\n",
       "    </tr>\n",
       "  </thead>\n",
       "  <tbody>\n",
       "    <tr>\n",
       "      <th>0</th>\n",
       "      <td>2010-01-01</td>\n",
       "      <td>Friday</td>\n",
       "      <td>101</td>\n",
       "      <td>0.1</td>\n",
       "      <td>clear</td>\n",
       "    </tr>\n",
       "    <tr>\n",
       "      <th>1</th>\n",
       "      <td>2010-01-02</td>\n",
       "      <td>Saturday</td>\n",
       "      <td>34</td>\n",
       "      <td>0.2</td>\n",
       "      <td>cloudy</td>\n",
       "    </tr>\n",
       "    <tr>\n",
       "      <th>2</th>\n",
       "      <td>2010-01-03</td>\n",
       "      <td>Sunday</td>\n",
       "      <td>113</td>\n",
       "      <td>0.4</td>\n",
       "      <td>clear</td>\n",
       "    </tr>\n",
       "    <tr>\n",
       "      <th>3</th>\n",
       "      <td>2010-01-04</td>\n",
       "      <td>Monday</td>\n",
       "      <td>5</td>\n",
       "      <td>0.6</td>\n",
       "      <td>cloudy</td>\n",
       "    </tr>\n",
       "    <tr>\n",
       "      <th>4</th>\n",
       "      <td>2010-01-05</td>\n",
       "      <td>Tuesday</td>\n",
       "      <td>124</td>\n",
       "      <td>0.1</td>\n",
       "      <td>clear</td>\n",
       "    </tr>\n",
       "  </tbody>\n",
       "</table>\n",
       "</div>"
      ],
      "text/plain": [
       "         date day.of.week  car.count  weather cloud.indicator\n",
       "0  2010-01-01      Friday        101      0.1           clear\n",
       "1  2010-01-02    Saturday         34      0.2          cloudy\n",
       "2  2010-01-03      Sunday        113      0.4           clear\n",
       "3  2010-01-04      Monday          5      0.6          cloudy\n",
       "4  2010-01-05     Tuesday        124      0.1           clear"
      ]
     },
     "execution_count": 4,
     "metadata": {},
     "output_type": "execute_result"
    }
   ],
   "source": [
    "ts.head()"
   ]
  },
  {
   "cell_type": "code",
   "execution_count": 5,
   "metadata": {},
   "outputs": [
    {
     "data": {
      "text/html": [
       "<div>\n",
       "<style>\n",
       "    .dataframe thead tr:only-child th {\n",
       "        text-align: right;\n",
       "    }\n",
       "\n",
       "    .dataframe thead th {\n",
       "        text-align: left;\n",
       "    }\n",
       "\n",
       "    .dataframe tbody tr th {\n",
       "        vertical-align: top;\n",
       "    }\n",
       "</style>\n",
       "<table border=\"1\" class=\"dataframe\">\n",
       "  <thead>\n",
       "    <tr style=\"text-align: right;\">\n",
       "      <th></th>\n",
       "      <th>date</th>\n",
       "      <th>day.of.week</th>\n",
       "      <th>car.count</th>\n",
       "      <th>weather</th>\n",
       "      <th>cloud.indicator</th>\n",
       "    </tr>\n",
       "  </thead>\n",
       "  <tbody>\n",
       "    <tr>\n",
       "      <th>2368</th>\n",
       "      <td>2016-06-26</td>\n",
       "      <td>Sunday</td>\n",
       "      <td>102</td>\n",
       "      <td>0.1</td>\n",
       "      <td>clear</td>\n",
       "    </tr>\n",
       "    <tr>\n",
       "      <th>2369</th>\n",
       "      <td>2016-06-27</td>\n",
       "      <td>Monday</td>\n",
       "      <td>38</td>\n",
       "      <td>0.6</td>\n",
       "      <td>cloudy</td>\n",
       "    </tr>\n",
       "    <tr>\n",
       "      <th>2370</th>\n",
       "      <td>2016-06-28</td>\n",
       "      <td>Tuesday</td>\n",
       "      <td>95</td>\n",
       "      <td>-1.6</td>\n",
       "      <td>clear</td>\n",
       "    </tr>\n",
       "    <tr>\n",
       "      <th>2371</th>\n",
       "      <td>2016-06-29</td>\n",
       "      <td>Wednesday</td>\n",
       "      <td>104</td>\n",
       "      <td>-0.1</td>\n",
       "      <td>clear</td>\n",
       "    </tr>\n",
       "    <tr>\n",
       "      <th>2372</th>\n",
       "      <td>2016-06-30</td>\n",
       "      <td>Thursday</td>\n",
       "      <td>90</td>\n",
       "      <td>-0.3</td>\n",
       "      <td>cloudy</td>\n",
       "    </tr>\n",
       "  </tbody>\n",
       "</table>\n",
       "</div>"
      ],
      "text/plain": [
       "            date day.of.week  car.count  weather cloud.indicator\n",
       "2368  2016-06-26      Sunday        102      0.1           clear\n",
       "2369  2016-06-27      Monday         38      0.6          cloudy\n",
       "2370  2016-06-28     Tuesday         95     -1.6           clear\n",
       "2371  2016-06-29   Wednesday        104     -0.1           clear\n",
       "2372  2016-06-30    Thursday         90     -0.3          cloudy"
      ]
     },
     "execution_count": 5,
     "metadata": {},
     "output_type": "execute_result"
    }
   ],
   "source": [
    "ts.tail()"
   ]
  },
  {
   "cell_type": "code",
   "execution_count": 6,
   "metadata": {},
   "outputs": [
    {
     "name": "stdout",
     "output_type": "stream",
     "text": [
      "<class 'pandas.core.frame.DataFrame'>\n",
      "RangeIndex: 2373 entries, 0 to 2372\n",
      "Data columns (total 5 columns):\n",
      "date               2373 non-null object\n",
      "day.of.week        2373 non-null object\n",
      "car.count          2373 non-null int64\n",
      "weather            2373 non-null float64\n",
      "cloud.indicator    2373 non-null object\n",
      "dtypes: float64(1), int64(1), object(3)\n",
      "memory usage: 92.8+ KB\n"
     ]
    }
   ],
   "source": [
    "ts.info()"
   ]
  },
  {
   "cell_type": "code",
   "execution_count": 7,
   "metadata": {
    "collapsed": true
   },
   "outputs": [],
   "source": [
    "# Convert date to datetime object and extract year and month\n",
    "ts['date'] = pd.to_datetime(ts['date'])\n",
    "ts['year'] = ts['date'].map(lambda x: x.year)\n",
    "ts['month'] = ts['date'].map(lambda x: x.month)"
   ]
  },
  {
   "cell_type": "code",
   "execution_count": 8,
   "metadata": {},
   "outputs": [
    {
     "data": {
      "text/plain": [
       "2015-10-18    1\n",
       "2014-12-12    1\n",
       "2013-02-01    1\n",
       "2010-10-21    1\n",
       "2014-06-29    1\n",
       "Name: date, dtype: int64"
      ]
     },
     "execution_count": 8,
     "metadata": {},
     "output_type": "execute_result"
    }
   ],
   "source": [
    "ts['date'].value_counts()[:5]"
   ]
  },
  {
   "cell_type": "markdown",
   "metadata": {},
   "source": [
    "### observation\n",
    "- Indicates that there is only one feature vector per day"
   ]
  },
  {
   "cell_type": "code",
   "execution_count": 9,
   "metadata": {},
   "outputs": [
    {
     "data": {
      "text/plain": [
       "False"
      ]
     },
     "execution_count": 9,
     "metadata": {},
     "output_type": "execute_result"
    }
   ],
   "source": [
    "idx = pd.date_range(ts['date'].iloc[0], ts['date'].iloc[-1])\n",
    "s_check_discontin_dates = ts['car.count'].reindex(idx, fill_value=\"NaN\")\n",
    "s_check_discontin_dates.isnull().values.any() "
   ]
  },
  {
   "cell_type": "markdown",
   "metadata": {},
   "source": [
    "### observation\n",
    "- There are no missing days in the data"
   ]
  },
  {
   "cell_type": "code",
   "execution_count": 10,
   "metadata": {},
   "outputs": [
    {
     "data": {
      "text/html": [
       "<div>\n",
       "<style>\n",
       "    .dataframe thead tr:only-child th {\n",
       "        text-align: right;\n",
       "    }\n",
       "\n",
       "    .dataframe thead th {\n",
       "        text-align: left;\n",
       "    }\n",
       "\n",
       "    .dataframe tbody tr th {\n",
       "        vertical-align: top;\n",
       "    }\n",
       "</style>\n",
       "<table border=\"1\" class=\"dataframe\">\n",
       "  <thead>\n",
       "    <tr style=\"text-align: right;\">\n",
       "      <th></th>\n",
       "      <th>car.count</th>\n",
       "      <th>weather</th>\n",
       "    </tr>\n",
       "  </thead>\n",
       "  <tbody>\n",
       "    <tr>\n",
       "      <th>count</th>\n",
       "      <td>2373.000000</td>\n",
       "      <td>2373.000000</td>\n",
       "    </tr>\n",
       "    <tr>\n",
       "      <th>mean</th>\n",
       "      <td>112.773704</td>\n",
       "      <td>0.008512</td>\n",
       "    </tr>\n",
       "    <tr>\n",
       "      <th>std</th>\n",
       "      <td>50.127710</td>\n",
       "      <td>1.007344</td>\n",
       "    </tr>\n",
       "    <tr>\n",
       "      <th>min</th>\n",
       "      <td>0.000000</td>\n",
       "      <td>-3.200000</td>\n",
       "    </tr>\n",
       "    <tr>\n",
       "      <th>25%</th>\n",
       "      <td>81.000000</td>\n",
       "      <td>-0.700000</td>\n",
       "    </tr>\n",
       "    <tr>\n",
       "      <th>50%</th>\n",
       "      <td>122.000000</td>\n",
       "      <td>0.000000</td>\n",
       "    </tr>\n",
       "    <tr>\n",
       "      <th>75%</th>\n",
       "      <td>152.000000</td>\n",
       "      <td>0.700000</td>\n",
       "    </tr>\n",
       "    <tr>\n",
       "      <th>max</th>\n",
       "      <td>239.000000</td>\n",
       "      <td>4.300000</td>\n",
       "    </tr>\n",
       "  </tbody>\n",
       "</table>\n",
       "</div>"
      ],
      "text/plain": [
       "         car.count      weather\n",
       "count  2373.000000  2373.000000\n",
       "mean    112.773704     0.008512\n",
       "std      50.127710     1.007344\n",
       "min       0.000000    -3.200000\n",
       "25%      81.000000    -0.700000\n",
       "50%     122.000000     0.000000\n",
       "75%     152.000000     0.700000\n",
       "max     239.000000     4.300000"
      ]
     },
     "execution_count": 10,
     "metadata": {},
     "output_type": "execute_result"
    }
   ],
   "source": [
    "ts[['car.count','weather']].describe() #Numerical variables"
   ]
  },
  {
   "cell_type": "code",
   "execution_count": 11,
   "metadata": {},
   "outputs": [
    {
     "data": {
      "text/plain": [
       "Thursday     339\n",
       "Friday       339\n",
       "Wednesday    339\n",
       "Sunday       339\n",
       "Tuesday      339\n",
       "Saturday     339\n",
       "Monday       339\n",
       "Name: day.of.week, dtype: int64"
      ]
     },
     "execution_count": 11,
     "metadata": {},
     "output_type": "execute_result"
    }
   ],
   "source": [
    "#Check if days are correct, should be an equal amount of each\n",
    "ts['day.of.week'].value_counts()"
   ]
  },
  {
   "cell_type": "code",
   "execution_count": 12,
   "metadata": {},
   "outputs": [
    {
     "data": {
      "text/html": [
       "<div>\n",
       "<style>\n",
       "    .dataframe thead tr:only-child th {\n",
       "        text-align: right;\n",
       "    }\n",
       "\n",
       "    .dataframe thead th {\n",
       "        text-align: left;\n",
       "    }\n",
       "\n",
       "    .dataframe tbody tr th {\n",
       "        vertical-align: top;\n",
       "    }\n",
       "</style>\n",
       "<table border=\"1\" class=\"dataframe\">\n",
       "  <thead>\n",
       "    <tr style=\"text-align: right;\">\n",
       "      <th></th>\n",
       "      <th>day.of.week</th>\n",
       "      <th>cloud.indicator</th>\n",
       "    </tr>\n",
       "  </thead>\n",
       "  <tbody>\n",
       "    <tr>\n",
       "      <th>count</th>\n",
       "      <td>2373</td>\n",
       "      <td>2373</td>\n",
       "    </tr>\n",
       "    <tr>\n",
       "      <th>unique</th>\n",
       "      <td>7</td>\n",
       "      <td>2</td>\n",
       "    </tr>\n",
       "    <tr>\n",
       "      <th>top</th>\n",
       "      <td>Thursday</td>\n",
       "      <td>clear</td>\n",
       "    </tr>\n",
       "    <tr>\n",
       "      <th>freq</th>\n",
       "      <td>339</td>\n",
       "      <td>1353</td>\n",
       "    </tr>\n",
       "  </tbody>\n",
       "</table>\n",
       "</div>"
      ],
      "text/plain": [
       "       day.of.week cloud.indicator\n",
       "count         2373            2373\n",
       "unique           7               2\n",
       "top       Thursday           clear\n",
       "freq           339            1353"
      ]
     },
     "execution_count": 12,
     "metadata": {},
     "output_type": "execute_result"
    }
   ],
   "source": [
    "ts[['day.of.week','cloud.indicator']].describe() #Categorical variables"
   ]
  },
  {
   "cell_type": "code",
   "execution_count": 13,
   "metadata": {},
   "outputs": [
    {
     "data": {
      "text/plain": [
       "clear     1353\n",
       "cloudy    1020\n",
       "Name: cloud.indicator, dtype: int64"
      ]
     },
     "execution_count": 13,
     "metadata": {},
     "output_type": "execute_result"
    }
   ],
   "source": [
    "ts['cloud.indicator'].value_counts()"
   ]
  },
  {
   "cell_type": "markdown",
   "metadata": {},
   "source": [
    "### Observations \n",
    "\n",
    "I learn:\n",
    "- There is 1 categorical (**cloud.indicator**) and 2 numerical variables (**car.count** and **weather**)\n",
    "- 0 <= **car.count** <= 239,  -3.2 <= **weather** <= 4.3 and **cloud.indicator** $\\in$ {clear,cloudy}\n",
    "- There are no missing days where there is not data\n",
    "- There are 339 weeks of data\n",
    "\n",
    "To investigate further:\n",
    "- How are the various variables correlated? \n",
    "- What is the difference between estimates for a cloudy days versus clear days (considering this most likely is acquired through satelite imagery)? Should I keep both? \n"
   ]
  },
  {
   "cell_type": "markdown",
   "metadata": {
    "collapsed": true
   },
   "source": [
    "# Visual data inspection"
   ]
  },
  {
   "cell_type": "code",
   "execution_count": 14,
   "metadata": {},
   "outputs": [
    {
     "data": {
      "text/html": [
       "<div>\n",
       "<style>\n",
       "    .dataframe thead tr:only-child th {\n",
       "        text-align: right;\n",
       "    }\n",
       "\n",
       "    .dataframe thead th {\n",
       "        text-align: left;\n",
       "    }\n",
       "\n",
       "    .dataframe tbody tr th {\n",
       "        vertical-align: top;\n",
       "    }\n",
       "</style>\n",
       "<table border=\"1\" class=\"dataframe\">\n",
       "  <thead>\n",
       "    <tr style=\"text-align: right;\">\n",
       "      <th></th>\n",
       "      <th>date</th>\n",
       "      <th>day.of.week</th>\n",
       "      <th>car.count</th>\n",
       "      <th>weather</th>\n",
       "      <th>cloud.indicator</th>\n",
       "      <th>year</th>\n",
       "      <th>month</th>\n",
       "    </tr>\n",
       "  </thead>\n",
       "  <tbody>\n",
       "    <tr>\n",
       "      <th>0</th>\n",
       "      <td>2010-01-01</td>\n",
       "      <td>Friday</td>\n",
       "      <td>101</td>\n",
       "      <td>0.1</td>\n",
       "      <td>clear</td>\n",
       "      <td>2010</td>\n",
       "      <td>1</td>\n",
       "    </tr>\n",
       "    <tr>\n",
       "      <th>1</th>\n",
       "      <td>2010-01-02</td>\n",
       "      <td>Saturday</td>\n",
       "      <td>34</td>\n",
       "      <td>0.2</td>\n",
       "      <td>cloudy</td>\n",
       "      <td>2010</td>\n",
       "      <td>1</td>\n",
       "    </tr>\n",
       "    <tr>\n",
       "      <th>2</th>\n",
       "      <td>2010-01-03</td>\n",
       "      <td>Sunday</td>\n",
       "      <td>113</td>\n",
       "      <td>0.4</td>\n",
       "      <td>clear</td>\n",
       "      <td>2010</td>\n",
       "      <td>1</td>\n",
       "    </tr>\n",
       "    <tr>\n",
       "      <th>3</th>\n",
       "      <td>2010-01-04</td>\n",
       "      <td>Monday</td>\n",
       "      <td>5</td>\n",
       "      <td>0.6</td>\n",
       "      <td>cloudy</td>\n",
       "      <td>2010</td>\n",
       "      <td>1</td>\n",
       "    </tr>\n",
       "    <tr>\n",
       "      <th>4</th>\n",
       "      <td>2010-01-05</td>\n",
       "      <td>Tuesday</td>\n",
       "      <td>124</td>\n",
       "      <td>0.1</td>\n",
       "      <td>clear</td>\n",
       "      <td>2010</td>\n",
       "      <td>1</td>\n",
       "    </tr>\n",
       "  </tbody>\n",
       "</table>\n",
       "</div>"
      ],
      "text/plain": [
       "        date day.of.week  car.count  weather cloud.indicator  year  month\n",
       "0 2010-01-01      Friday        101      0.1           clear  2010      1\n",
       "1 2010-01-02    Saturday         34      0.2          cloudy  2010      1\n",
       "2 2010-01-03      Sunday        113      0.4           clear  2010      1\n",
       "3 2010-01-04      Monday          5      0.6          cloudy  2010      1\n",
       "4 2010-01-05     Tuesday        124      0.1           clear  2010      1"
      ]
     },
     "execution_count": 14,
     "metadata": {},
     "output_type": "execute_result"
    }
   ],
   "source": [
    "ts.head()"
   ]
  },
  {
   "cell_type": "code",
   "execution_count": 15,
   "metadata": {},
   "outputs": [
    {
     "data": {
      "text/plain": [
       "<seaborn.axisgrid.PairGrid at 0x11127f198>"
      ]
     },
     "execution_count": 15,
     "metadata": {},
     "output_type": "execute_result"
    },
    {
     "data": {
      "image/png": "[encoded data removed]",
      "text/plain": [
       "<matplotlib.figure.Figure at 0x11127f1d0>"
      ]
     },
     "metadata": {},
     "output_type": "display_data"
    }
   ],
   "source": [
    "sns.pairplot(data=ts, vars=['weather','car.count'],hue='cloud.indicator', kind='reg', \n",
    "             plot_kws={'scatter_kws': {'alpha': 0.1}},size=4)"
   ]
  },
  {
   "cell_type": "markdown",
   "metadata": {},
   "source": [
    "### Plot observations\n",
    "- Tells me that **car.count** is not really a function of **weather** neither for cloudy or clear days.\n",
    "- **car.count** on cloudy days does not appear to be Gaussian distributed, it is also more likely to be fewer **car.counts** when it is cloudy than when it is clear. Most likely this is due to the **car.count** predictive power is less when the imagery is somwhat blurry due to the clouds. \n",
    "- **car.count** on clear days seem to be Gaussian distributed, which I would expect.\n",
    "\n",
    "Next:\n",
    "- Check if cloudy days **car.count** should be kept."
   ]
  },
  {
   "cell_type": "code",
   "execution_count": 16,
   "metadata": {},
   "outputs": [
    {
     "data": {
      "image/png": "[encoded data removed]",
      "text/plain": [
       "<matplotlib.figure.Figure at 0x1111b6a20>"
      ]
     },
     "metadata": {},
     "output_type": "display_data"
    }
   ],
   "source": [
    "fig,axes = plt.subplots(nrows=1, ncols=2, figsize=(12,3))\n",
    "ax1 = axes[0]\n",
    "ax2 = axes[1]\n",
    "\n",
    "ax1.plot(ts[(ts['cloud.indicator']=='clear')]['car.count'])\n",
    "ax1.set_title('Clear')\n",
    "ax1.set_ylim([0,239])\n",
    "\n",
    "ax2.plot(ts[(ts['cloud.indicator']=='cloudy')]['car.count'])\n",
    "ax2.set_title('Cloudy')\n",
    "ax2.set_ylim([0,239]);"
   ]
  },
  {
   "cell_type": "code",
   "execution_count": 17,
   "metadata": {},
   "outputs": [
    {
     "data": {
      "image/png": "[encoded data removed]",
      "text/plain": [
       "<matplotlib.figure.Figure at 0x11788fb70>"
      ]
     },
     "metadata": {},
     "output_type": "display_data"
    }
   ],
   "source": [
    "#Smaller interval\n",
    "fig,axes = plt.subplots(nrows=1, ncols=2, figsize=(12,3))\n",
    "ax1 = axes[0]\n",
    "ax2 = axes[1]\n",
    "\n",
    "ax1.plot(ts[(ts['cloud.indicator']=='clear') & (ts['date'] < '2010-02-28')]['car.count'],marker='o')\n",
    "ax1.set_title('Clear')\n",
    "ax1.set_ylim([0,239])\n",
    "\n",
    "ax2.plot(ts[(ts['cloud.indicator']=='cloudy') & (ts['date'] < '2010-02-28')]['car.count'],marker='o')\n",
    "ax2.set_title('Cloudy')\n",
    "ax2.set_ylim([0,239]);"
   ]
  },
  {
   "cell_type": "code",
   "execution_count": 18,
   "metadata": {},
   "outputs": [
    {
     "data": {
      "text/plain": [
       "count    1353.000000\n",
       "mean      143.811530\n",
       "std        26.038077\n",
       "min        81.000000\n",
       "25%       124.000000\n",
       "50%       146.000000\n",
       "75%       162.000000\n",
       "max       239.000000\n",
       "Name: car.count, dtype: float64"
      ]
     },
     "execution_count": 18,
     "metadata": {},
     "output_type": "execute_result"
    }
   ],
   "source": [
    "ts[ts['cloud.indicator']=='clear']['car.count'].describe()"
   ]
  },
  {
   "cell_type": "code",
   "execution_count": 19,
   "metadata": {},
   "outputs": [
    {
     "data": {
      "text/plain": [
       "count    1020.000000\n",
       "mean       71.602941\n",
       "std        44.428109\n",
       "min         0.000000\n",
       "25%        34.000000\n",
       "50%        69.000000\n",
       "75%       106.000000\n",
       "max       210.000000\n",
       "Name: car.count, dtype: float64"
      ]
     },
     "execution_count": 19,
     "metadata": {},
     "output_type": "execute_result"
    }
   ],
   "source": [
    "ts[ts['cloud.indicator']=='cloudy']['car.count'].describe()"
   ]
  },
  {
   "cell_type": "markdown",
   "metadata": {},
   "source": [
    "### Plot observations and describe observation\n",
    "- cloudy days have consistently fewer **car.count** than clear days and bigger variance. Most likely not a true estimate of the number of cars those specific days. \n",
    "\n",
    "Action: Drop cloudy days data and interpolate the clear data to be these missing date values instead. "
   ]
  },
  {
   "cell_type": "markdown",
   "metadata": {},
   "source": [
    "## Drop cloudy days data and use clear day data to interpolate the missing ones"
   ]
  },
  {
   "cell_type": "code",
   "execution_count": 20,
   "metadata": {
    "collapsed": true
   },
   "outputs": [],
   "source": [
    "ts_clear = ts[ts['cloud.indicator']=='clear'] #Drop cloudy days"
   ]
  },
  {
   "cell_type": "code",
   "execution_count": 21,
   "metadata": {},
   "outputs": [
    {
     "data": {
      "text/html": [
       "<div>\n",
       "<style>\n",
       "    .dataframe thead tr:only-child th {\n",
       "        text-align: right;\n",
       "    }\n",
       "\n",
       "    .dataframe thead th {\n",
       "        text-align: left;\n",
       "    }\n",
       "\n",
       "    .dataframe tbody tr th {\n",
       "        vertical-align: top;\n",
       "    }\n",
       "</style>\n",
       "<table border=\"1\" class=\"dataframe\">\n",
       "  <thead>\n",
       "    <tr style=\"text-align: right;\">\n",
       "      <th></th>\n",
       "      <th>date</th>\n",
       "      <th>day.of.week</th>\n",
       "      <th>car.count</th>\n",
       "      <th>weather</th>\n",
       "      <th>cloud.indicator</th>\n",
       "      <th>year</th>\n",
       "      <th>month</th>\n",
       "    </tr>\n",
       "  </thead>\n",
       "  <tbody>\n",
       "    <tr>\n",
       "      <th>0</th>\n",
       "      <td>2010-01-01</td>\n",
       "      <td>Friday</td>\n",
       "      <td>101</td>\n",
       "      <td>0.1</td>\n",
       "      <td>clear</td>\n",
       "      <td>2010</td>\n",
       "      <td>1</td>\n",
       "    </tr>\n",
       "    <tr>\n",
       "      <th>2</th>\n",
       "      <td>2010-01-03</td>\n",
       "      <td>Sunday</td>\n",
       "      <td>113</td>\n",
       "      <td>0.4</td>\n",
       "      <td>clear</td>\n",
       "      <td>2010</td>\n",
       "      <td>1</td>\n",
       "    </tr>\n",
       "    <tr>\n",
       "      <th>4</th>\n",
       "      <td>2010-01-05</td>\n",
       "      <td>Tuesday</td>\n",
       "      <td>124</td>\n",
       "      <td>0.1</td>\n",
       "      <td>clear</td>\n",
       "      <td>2010</td>\n",
       "      <td>1</td>\n",
       "    </tr>\n",
       "    <tr>\n",
       "      <th>5</th>\n",
       "      <td>2010-01-06</td>\n",
       "      <td>Wednesday</td>\n",
       "      <td>104</td>\n",
       "      <td>-0.1</td>\n",
       "      <td>clear</td>\n",
       "      <td>2010</td>\n",
       "      <td>1</td>\n",
       "    </tr>\n",
       "    <tr>\n",
       "      <th>6</th>\n",
       "      <td>2010-01-07</td>\n",
       "      <td>Thursday</td>\n",
       "      <td>81</td>\n",
       "      <td>-1.0</td>\n",
       "      <td>clear</td>\n",
       "      <td>2010</td>\n",
       "      <td>1</td>\n",
       "    </tr>\n",
       "  </tbody>\n",
       "</table>\n",
       "</div>"
      ],
      "text/plain": [
       "        date day.of.week  car.count  weather cloud.indicator  year  month\n",
       "0 2010-01-01      Friday        101      0.1           clear  2010      1\n",
       "2 2010-01-03      Sunday        113      0.4           clear  2010      1\n",
       "4 2010-01-05     Tuesday        124      0.1           clear  2010      1\n",
       "5 2010-01-06   Wednesday        104     -0.1           clear  2010      1\n",
       "6 2010-01-07    Thursday         81     -1.0           clear  2010      1"
      ]
     },
     "execution_count": 21,
     "metadata": {},
     "output_type": "execute_result"
    }
   ],
   "source": [
    "ts_clear.head()"
   ]
  },
  {
   "cell_type": "code",
   "execution_count": 22,
   "metadata": {},
   "outputs": [
    {
     "data": {
      "text/plain": [
       "date\n",
       "2010-01-01    101\n",
       "2010-01-03    113\n",
       "2010-01-05    124\n",
       "2010-01-06    104\n",
       "2010-01-07     81\n",
       "dtype: int64"
      ]
     },
     "execution_count": 22,
     "metadata": {},
     "output_type": "execute_result"
    }
   ],
   "source": [
    "#Make a series of the car.count\n",
    "ts_cc_clear = pd.Series(data=ts_clear['car.count'].values,index=ts_clear['date'])\n",
    "ts_cc_clear.head()"
   ]
  },
  {
   "cell_type": "code",
   "execution_count": 23,
   "metadata": {},
   "outputs": [
    {
     "data": {
      "text/plain": [
       "2010-01-01    101\n",
       "2010-01-02    NaN\n",
       "2010-01-03    113\n",
       "2010-01-04    NaN\n",
       "2010-01-05    124\n",
       "Freq: D, dtype: object"
      ]
     },
     "execution_count": 23,
     "metadata": {},
     "output_type": "execute_result"
    }
   ],
   "source": [
    "idx = pd.date_range(ts_cc_clear.index[0], ts_cc_clear.index[-1])\n",
    "ts_cc_clear_inter = ts_cc_clear.reindex(idx, fill_value=\"NaN\") #Make new series with NaN where there is missing dates\n",
    "ts_cc_clear_inter.head()"
   ]
  },
  {
   "cell_type": "code",
   "execution_count": 24,
   "metadata": {},
   "outputs": [
    {
     "data": {
      "text/plain": [
       "<matplotlib.axes._subplots.AxesSubplot at 0x10c43bba8>"
      ]
     },
     "execution_count": 24,
     "metadata": {},
     "output_type": "execute_result"
    },
    {
     "data": {
      "image/png": "[encoded data removed]",
      "text/plain": [
       "<matplotlib.figure.Figure at 0x117877908>"
      ]
     },
     "metadata": {},
     "output_type": "display_data"
    }
   ],
   "source": [
    "#Check which intepolation scheme that seem to work best\n",
    "ts_cc_clear_inter.astype(float).interpolate(method='time')[0:40].plot(marker='o',color='r')\n",
    "ts_cc_clear_inter.astype(float).interpolate(method='linear')[0:40].plot(marker='o',color='k',linestyle='dashed')\n",
    "ts_cc_clear_inter.astype(float).interpolate(method='spline', order=2)[0:40].plot(marker='o',color='g')\n",
    "ts_cc_clear_inter.astype(float).interpolate(method='spline', order=3)[0:40].plot(marker='o',color='b')"
   ]
  },
  {
   "cell_type": "markdown",
   "metadata": {},
   "source": [
    "### Plot observation\n",
    "- I decide to go with linear/time interpolation, where it is a mean of before and after NaN value. "
   ]
  },
  {
   "cell_type": "code",
   "execution_count": 25,
   "metadata": {},
   "outputs": [
    {
     "data": {
      "text/plain": [
       "2010-01-01    101.0\n",
       "2010-01-02    107.0\n",
       "2010-01-03    113.0\n",
       "2010-01-04    118.5\n",
       "2010-01-05    124.0\n",
       "Freq: D, dtype: float64"
      ]
     },
     "execution_count": 25,
     "metadata": {},
     "output_type": "execute_result"
    }
   ],
   "source": [
    "ts_cc_clear_inter = ts_cc_clear_inter.astype(float).interpolate(method='linear')\n",
    "ts_cc_clear_inter.head()"
   ]
  },
  {
   "cell_type": "code",
   "execution_count": 26,
   "metadata": {},
   "outputs": [
    {
     "data": {
      "text/plain": [
       "False"
      ]
     },
     "execution_count": 26,
     "metadata": {},
     "output_type": "execute_result"
    }
   ],
   "source": [
    "ts_cc_clear_inter.isnull().values.any()"
   ]
  },
  {
   "cell_type": "code",
   "execution_count": 27,
   "metadata": {},
   "outputs": [
    {
     "data": {
      "text/plain": [
       "<matplotlib.axes._subplots.AxesSubplot at 0x116705dd8>"
      ]
     },
     "execution_count": 27,
     "metadata": {},
     "output_type": "execute_result"
    },
    {
     "data": {
      "image/png": "[encoded data removed]",
      "text/plain": [
       "<matplotlib.figure.Figure at 0x1111d1390>"
      ]
     },
     "metadata": {},
     "output_type": "display_data"
    }
   ],
   "source": [
    "ts_cc_clear_inter.plot()"
   ]
  },
  {
   "cell_type": "code",
   "execution_count": 28,
   "metadata": {},
   "outputs": [
    {
     "data": {
      "text/plain": [
       "count    2372.000000\n",
       "mean      144.426644\n",
       "std        25.273126\n",
       "min        81.000000\n",
       "25%       125.000000\n",
       "50%       146.708333\n",
       "75%       163.000000\n",
       "max       239.000000\n",
       "dtype: float64"
      ]
     },
     "execution_count": 28,
     "metadata": {},
     "output_type": "execute_result"
    }
   ],
   "source": [
    "ts_cc_clear_inter.describe()"
   ]
  },
  {
   "cell_type": "markdown",
   "metadata": {},
   "source": [
    "### observations\n",
    "\n",
    "- ts is 2373, which is 1 more then ts_cc_clear_inter"
   ]
  },
  {
   "cell_type": "code",
   "execution_count": 29,
   "metadata": {},
   "outputs": [
    {
     "data": {
      "text/html": [
       "<div>\n",
       "<style>\n",
       "    .dataframe thead tr:only-child th {\n",
       "        text-align: right;\n",
       "    }\n",
       "\n",
       "    .dataframe thead th {\n",
       "        text-align: left;\n",
       "    }\n",
       "\n",
       "    .dataframe tbody tr th {\n",
       "        vertical-align: top;\n",
       "    }\n",
       "</style>\n",
       "<table border=\"1\" class=\"dataframe\">\n",
       "  <thead>\n",
       "    <tr style=\"text-align: right;\">\n",
       "      <th></th>\n",
       "      <th>date</th>\n",
       "      <th>day.of.week</th>\n",
       "      <th>car.count</th>\n",
       "      <th>weather</th>\n",
       "      <th>cloud.indicator</th>\n",
       "      <th>year</th>\n",
       "      <th>month</th>\n",
       "    </tr>\n",
       "  </thead>\n",
       "  <tbody>\n",
       "    <tr>\n",
       "      <th>0</th>\n",
       "      <td>2010-01-01</td>\n",
       "      <td>Friday</td>\n",
       "      <td>101</td>\n",
       "      <td>0.1</td>\n",
       "      <td>clear</td>\n",
       "      <td>2010</td>\n",
       "      <td>1</td>\n",
       "    </tr>\n",
       "    <tr>\n",
       "      <th>1</th>\n",
       "      <td>2010-01-02</td>\n",
       "      <td>Saturday</td>\n",
       "      <td>34</td>\n",
       "      <td>0.2</td>\n",
       "      <td>cloudy</td>\n",
       "      <td>2010</td>\n",
       "      <td>1</td>\n",
       "    </tr>\n",
       "    <tr>\n",
       "      <th>2</th>\n",
       "      <td>2010-01-03</td>\n",
       "      <td>Sunday</td>\n",
       "      <td>113</td>\n",
       "      <td>0.4</td>\n",
       "      <td>clear</td>\n",
       "      <td>2010</td>\n",
       "      <td>1</td>\n",
       "    </tr>\n",
       "    <tr>\n",
       "      <th>3</th>\n",
       "      <td>2010-01-04</td>\n",
       "      <td>Monday</td>\n",
       "      <td>5</td>\n",
       "      <td>0.6</td>\n",
       "      <td>cloudy</td>\n",
       "      <td>2010</td>\n",
       "      <td>1</td>\n",
       "    </tr>\n",
       "    <tr>\n",
       "      <th>4</th>\n",
       "      <td>2010-01-05</td>\n",
       "      <td>Tuesday</td>\n",
       "      <td>124</td>\n",
       "      <td>0.1</td>\n",
       "      <td>clear</td>\n",
       "      <td>2010</td>\n",
       "      <td>1</td>\n",
       "    </tr>\n",
       "  </tbody>\n",
       "</table>\n",
       "</div>"
      ],
      "text/plain": [
       "        date day.of.week  car.count  weather cloud.indicator  year  month\n",
       "0 2010-01-01      Friday        101      0.1           clear  2010      1\n",
       "1 2010-01-02    Saturday         34      0.2          cloudy  2010      1\n",
       "2 2010-01-03      Sunday        113      0.4           clear  2010      1\n",
       "3 2010-01-04      Monday          5      0.6          cloudy  2010      1\n",
       "4 2010-01-05     Tuesday        124      0.1           clear  2010      1"
      ]
     },
     "execution_count": 29,
     "metadata": {},
     "output_type": "execute_result"
    }
   ],
   "source": [
    "ts.head()"
   ]
  },
  {
   "cell_type": "code",
   "execution_count": 30,
   "metadata": {},
   "outputs": [
    {
     "data": {
      "text/html": [
       "<div>\n",
       "<style>\n",
       "    .dataframe thead tr:only-child th {\n",
       "        text-align: right;\n",
       "    }\n",
       "\n",
       "    .dataframe thead th {\n",
       "        text-align: left;\n",
       "    }\n",
       "\n",
       "    .dataframe tbody tr th {\n",
       "        vertical-align: top;\n",
       "    }\n",
       "</style>\n",
       "<table border=\"1\" class=\"dataframe\">\n",
       "  <thead>\n",
       "    <tr style=\"text-align: right;\">\n",
       "      <th></th>\n",
       "      <th>date</th>\n",
       "      <th>day.of.week</th>\n",
       "      <th>car.count</th>\n",
       "      <th>weather</th>\n",
       "      <th>cloud.indicator</th>\n",
       "      <th>year</th>\n",
       "      <th>month</th>\n",
       "    </tr>\n",
       "  </thead>\n",
       "  <tbody>\n",
       "    <tr>\n",
       "      <th>2368</th>\n",
       "      <td>2016-06-26</td>\n",
       "      <td>Sunday</td>\n",
       "      <td>102</td>\n",
       "      <td>0.1</td>\n",
       "      <td>clear</td>\n",
       "      <td>2016</td>\n",
       "      <td>6</td>\n",
       "    </tr>\n",
       "    <tr>\n",
       "      <th>2369</th>\n",
       "      <td>2016-06-27</td>\n",
       "      <td>Monday</td>\n",
       "      <td>38</td>\n",
       "      <td>0.6</td>\n",
       "      <td>cloudy</td>\n",
       "      <td>2016</td>\n",
       "      <td>6</td>\n",
       "    </tr>\n",
       "    <tr>\n",
       "      <th>2370</th>\n",
       "      <td>2016-06-28</td>\n",
       "      <td>Tuesday</td>\n",
       "      <td>95</td>\n",
       "      <td>-1.6</td>\n",
       "      <td>clear</td>\n",
       "      <td>2016</td>\n",
       "      <td>6</td>\n",
       "    </tr>\n",
       "    <tr>\n",
       "      <th>2371</th>\n",
       "      <td>2016-06-29</td>\n",
       "      <td>Wednesday</td>\n",
       "      <td>104</td>\n",
       "      <td>-0.1</td>\n",
       "      <td>clear</td>\n",
       "      <td>2016</td>\n",
       "      <td>6</td>\n",
       "    </tr>\n",
       "    <tr>\n",
       "      <th>2372</th>\n",
       "      <td>2016-06-30</td>\n",
       "      <td>Thursday</td>\n",
       "      <td>90</td>\n",
       "      <td>-0.3</td>\n",
       "      <td>cloudy</td>\n",
       "      <td>2016</td>\n",
       "      <td>6</td>\n",
       "    </tr>\n",
       "  </tbody>\n",
       "</table>\n",
       "</div>"
      ],
      "text/plain": [
       "           date day.of.week  car.count  weather cloud.indicator  year  month\n",
       "2368 2016-06-26      Sunday        102      0.1           clear  2016      6\n",
       "2369 2016-06-27      Monday         38      0.6          cloudy  2016      6\n",
       "2370 2016-06-28     Tuesday         95     -1.6           clear  2016      6\n",
       "2371 2016-06-29   Wednesday        104     -0.1           clear  2016      6\n",
       "2372 2016-06-30    Thursday         90     -0.3          cloudy  2016      6"
      ]
     },
     "execution_count": 30,
     "metadata": {},
     "output_type": "execute_result"
    }
   ],
   "source": [
    "ts.tail()"
   ]
  },
  {
   "cell_type": "markdown",
   "metadata": {},
   "source": [
    "### observations\n",
    "- Since the last row is cloudy, it did not get interpolated above. \n",
    "\n",
    "Action:\n",
    "I will drop that one and instead try to forecast that one later on too. "
   ]
  },
  {
   "cell_type": "code",
   "execution_count": 31,
   "metadata": {},
   "outputs": [
    {
     "name": "stdout",
     "output_type": "stream",
     "text": [
      "2372\n"
     ]
    }
   ],
   "source": [
    "ts.drop(ts.index[-1],inplace=True);\n",
    "ts.tail()\n",
    "print(len(ts))"
   ]
  },
  {
   "cell_type": "code",
   "execution_count": 32,
   "metadata": {},
   "outputs": [
    {
     "data": {
      "image/png": "[encoded data removed]",
      "text/plain": [
       "<matplotlib.figure.Figure at 0x118016940>"
      ]
     },
     "metadata": {},
     "output_type": "display_data"
    }
   ],
   "source": [
    "#Before intepolation\n",
    "\n",
    "fig,axes = plt.subplots(nrows=1, ncols=2, figsize=(12,3))\n",
    "ax1 = axes[0]\n",
    "ax2 = axes[1]\n",
    "\n",
    "ax1.plot(ts[(ts['cloud.indicator']=='clear')]['car.count'])\n",
    "ax1.set_title('Clear')\n",
    "ax1.set_ylim([0,239])\n",
    "\n",
    "ax2.plot(ts[(ts['cloud.indicator']=='cloudy')]['car.count'])\n",
    "ax2.set_title('Cloudy')\n",
    "ax2.set_ylim([0,239]);"
   ]
  },
  {
   "cell_type": "code",
   "execution_count": 33,
   "metadata": {
    "collapsed": true
   },
   "outputs": [],
   "source": [
    "ts['car.count'] = ts_cc_clear_inter.values"
   ]
  },
  {
   "cell_type": "code",
   "execution_count": 34,
   "metadata": {},
   "outputs": [
    {
     "data": {
      "text/html": [
       "<div>\n",
       "<style>\n",
       "    .dataframe thead tr:only-child th {\n",
       "        text-align: right;\n",
       "    }\n",
       "\n",
       "    .dataframe thead th {\n",
       "        text-align: left;\n",
       "    }\n",
       "\n",
       "    .dataframe tbody tr th {\n",
       "        vertical-align: top;\n",
       "    }\n",
       "</style>\n",
       "<table border=\"1\" class=\"dataframe\">\n",
       "  <thead>\n",
       "    <tr style=\"text-align: right;\">\n",
       "      <th></th>\n",
       "      <th>date</th>\n",
       "      <th>day.of.week</th>\n",
       "      <th>car.count</th>\n",
       "      <th>weather</th>\n",
       "      <th>cloud.indicator</th>\n",
       "      <th>year</th>\n",
       "      <th>month</th>\n",
       "    </tr>\n",
       "  </thead>\n",
       "  <tbody>\n",
       "    <tr>\n",
       "      <th>0</th>\n",
       "      <td>2010-01-01</td>\n",
       "      <td>Friday</td>\n",
       "      <td>101.0</td>\n",
       "      <td>0.1</td>\n",
       "      <td>clear</td>\n",
       "      <td>2010</td>\n",
       "      <td>1</td>\n",
       "    </tr>\n",
       "    <tr>\n",
       "      <th>1</th>\n",
       "      <td>2010-01-02</td>\n",
       "      <td>Saturday</td>\n",
       "      <td>107.0</td>\n",
       "      <td>0.2</td>\n",
       "      <td>cloudy</td>\n",
       "      <td>2010</td>\n",
       "      <td>1</td>\n",
       "    </tr>\n",
       "    <tr>\n",
       "      <th>2</th>\n",
       "      <td>2010-01-03</td>\n",
       "      <td>Sunday</td>\n",
       "      <td>113.0</td>\n",
       "      <td>0.4</td>\n",
       "      <td>clear</td>\n",
       "      <td>2010</td>\n",
       "      <td>1</td>\n",
       "    </tr>\n",
       "    <tr>\n",
       "      <th>3</th>\n",
       "      <td>2010-01-04</td>\n",
       "      <td>Monday</td>\n",
       "      <td>118.5</td>\n",
       "      <td>0.6</td>\n",
       "      <td>cloudy</td>\n",
       "      <td>2010</td>\n",
       "      <td>1</td>\n",
       "    </tr>\n",
       "    <tr>\n",
       "      <th>4</th>\n",
       "      <td>2010-01-05</td>\n",
       "      <td>Tuesday</td>\n",
       "      <td>124.0</td>\n",
       "      <td>0.1</td>\n",
       "      <td>clear</td>\n",
       "      <td>2010</td>\n",
       "      <td>1</td>\n",
       "    </tr>\n",
       "  </tbody>\n",
       "</table>\n",
       "</div>"
      ],
      "text/plain": [
       "        date day.of.week  car.count  weather cloud.indicator  year  month\n",
       "0 2010-01-01      Friday      101.0      0.1           clear  2010      1\n",
       "1 2010-01-02    Saturday      107.0      0.2          cloudy  2010      1\n",
       "2 2010-01-03      Sunday      113.0      0.4           clear  2010      1\n",
       "3 2010-01-04      Monday      118.5      0.6          cloudy  2010      1\n",
       "4 2010-01-05     Tuesday      124.0      0.1           clear  2010      1"
      ]
     },
     "execution_count": 34,
     "metadata": {},
     "output_type": "execute_result"
    }
   ],
   "source": [
    "ts.head()"
   ]
  },
  {
   "cell_type": "code",
   "execution_count": 35,
   "metadata": {},
   "outputs": [
    {
     "data": {
      "image/png": "[encoded data removed]",
      "text/plain": [
       "<matplotlib.figure.Figure at 0x11801bb38>"
      ]
     },
     "metadata": {},
     "output_type": "display_data"
    }
   ],
   "source": [
    "#After intepolation\n",
    "\n",
    "fig,axes = plt.subplots(nrows=1, ncols=2, figsize=(12,3))\n",
    "ax1 = axes[0]\n",
    "ax2 = axes[1]\n",
    "\n",
    "ax1.plot(ts[(ts['cloud.indicator']=='clear')]['car.count'])\n",
    "ax1.set_title('Clear')\n",
    "ax1.set_ylim([0,239])\n",
    "\n",
    "ax2.plot(ts[(ts['cloud.indicator']=='cloudy')]['car.count'])\n",
    "ax2.set_title('Cloudy')\n",
    "ax2.set_ylim([0,239]);"
   ]
  },
  {
   "cell_type": "markdown",
   "metadata": {},
   "source": [
    "### Plot observation\n",
    "- There seem to be less variance for the Cloudy interpolated days then the Clear days now. \n",
    "\n",
    "Future action: Look if there is a way to do a better prediction of cloudy days data."
   ]
  },
  {
   "cell_type": "markdown",
   "metadata": {},
   "source": [
    "## Visually inspect for recognizable patterns"
   ]
  },
  {
   "cell_type": "markdown",
   "metadata": {},
   "source": [
    "### Days"
   ]
  },
  {
   "cell_type": "code",
   "execution_count": 36,
   "metadata": {},
   "outputs": [
    {
     "data": {
      "text/plain": [
       "<matplotlib.axes._subplots.AxesSubplot at 0x117f2d5c0>"
      ]
     },
     "execution_count": 36,
     "metadata": {},
     "output_type": "execute_result"
    },
    {
     "data": {
      "image/png": "[encoded data removed]",
      "text/plain": [
       "<matplotlib.figure.Figure at 0x11806a9b0>"
      ]
     },
     "metadata": {},
     "output_type": "display_data"
    }
   ],
   "source": [
    "#only clear days\n",
    "plt.figure(figsize=(12,3))\n",
    "sns.boxplot(x='day.of.week', y='car.count', data = ts_clear, order=['Monday', 'Tuesday', 'Wednesday', \n",
    "            'Thursday', 'Friday', 'Saturday','Sunday'])"
   ]
  },
  {
   "cell_type": "code",
   "execution_count": 37,
   "metadata": {},
   "outputs": [
    {
     "data": {
      "text/html": [
       "<div>\n",
       "<style>\n",
       "    .dataframe thead tr:only-child th {\n",
       "        text-align: right;\n",
       "    }\n",
       "\n",
       "    .dataframe thead th {\n",
       "        text-align: left;\n",
       "    }\n",
       "\n",
       "    .dataframe tbody tr th {\n",
       "        vertical-align: top;\n",
       "    }\n",
       "</style>\n",
       "<table border=\"1\" class=\"dataframe\">\n",
       "  <thead>\n",
       "    <tr style=\"text-align: right;\">\n",
       "      <th></th>\n",
       "      <th>count</th>\n",
       "      <th>mean</th>\n",
       "      <th>std</th>\n",
       "      <th>min</th>\n",
       "      <th>25%</th>\n",
       "      <th>50%</th>\n",
       "      <th>75%</th>\n",
       "      <th>max</th>\n",
       "    </tr>\n",
       "    <tr>\n",
       "      <th>day.of.week</th>\n",
       "      <th></th>\n",
       "      <th></th>\n",
       "      <th></th>\n",
       "      <th></th>\n",
       "      <th></th>\n",
       "      <th></th>\n",
       "      <th></th>\n",
       "      <th></th>\n",
       "    </tr>\n",
       "  </thead>\n",
       "  <tbody>\n",
       "    <tr>\n",
       "      <th>Friday</th>\n",
       "      <td>206.0</td>\n",
       "      <td>145.199029</td>\n",
       "      <td>25.835959</td>\n",
       "      <td>88.0</td>\n",
       "      <td>127.25</td>\n",
       "      <td>146.5</td>\n",
       "      <td>163.00</td>\n",
       "      <td>211.0</td>\n",
       "    </tr>\n",
       "    <tr>\n",
       "      <th>Monday</th>\n",
       "      <td>195.0</td>\n",
       "      <td>144.984615</td>\n",
       "      <td>25.803675</td>\n",
       "      <td>96.0</td>\n",
       "      <td>126.00</td>\n",
       "      <td>146.0</td>\n",
       "      <td>164.00</td>\n",
       "      <td>223.0</td>\n",
       "    </tr>\n",
       "    <tr>\n",
       "      <th>Saturday</th>\n",
       "      <td>197.0</td>\n",
       "      <td>148.411168</td>\n",
       "      <td>26.369983</td>\n",
       "      <td>98.0</td>\n",
       "      <td>128.00</td>\n",
       "      <td>149.0</td>\n",
       "      <td>168.00</td>\n",
       "      <td>225.0</td>\n",
       "    </tr>\n",
       "    <tr>\n",
       "      <th>Sunday</th>\n",
       "      <td>189.0</td>\n",
       "      <td>145.576720</td>\n",
       "      <td>24.388929</td>\n",
       "      <td>96.0</td>\n",
       "      <td>127.00</td>\n",
       "      <td>147.0</td>\n",
       "      <td>164.00</td>\n",
       "      <td>204.0</td>\n",
       "    </tr>\n",
       "    <tr>\n",
       "      <th>Thursday</th>\n",
       "      <td>184.0</td>\n",
       "      <td>141.250000</td>\n",
       "      <td>25.446236</td>\n",
       "      <td>81.0</td>\n",
       "      <td>121.00</td>\n",
       "      <td>143.0</td>\n",
       "      <td>160.00</td>\n",
       "      <td>193.0</td>\n",
       "    </tr>\n",
       "    <tr>\n",
       "      <th>Tuesday</th>\n",
       "      <td>194.0</td>\n",
       "      <td>139.628866</td>\n",
       "      <td>27.737974</td>\n",
       "      <td>84.0</td>\n",
       "      <td>120.00</td>\n",
       "      <td>143.0</td>\n",
       "      <td>157.75</td>\n",
       "      <td>239.0</td>\n",
       "    </tr>\n",
       "    <tr>\n",
       "      <th>Wednesday</th>\n",
       "      <td>188.0</td>\n",
       "      <td>141.303191</td>\n",
       "      <td>25.782898</td>\n",
       "      <td>84.0</td>\n",
       "      <td>120.00</td>\n",
       "      <td>144.5</td>\n",
       "      <td>159.25</td>\n",
       "      <td>204.0</td>\n",
       "    </tr>\n",
       "  </tbody>\n",
       "</table>\n",
       "</div>"
      ],
      "text/plain": [
       "             count        mean        std   min     25%    50%     75%    max\n",
       "day.of.week                                                                  \n",
       "Friday       206.0  145.199029  25.835959  88.0  127.25  146.5  163.00  211.0\n",
       "Monday       195.0  144.984615  25.803675  96.0  126.00  146.0  164.00  223.0\n",
       "Saturday     197.0  148.411168  26.369983  98.0  128.00  149.0  168.00  225.0\n",
       "Sunday       189.0  145.576720  24.388929  96.0  127.00  147.0  164.00  204.0\n",
       "Thursday     184.0  141.250000  25.446236  81.0  121.00  143.0  160.00  193.0\n",
       "Tuesday      194.0  139.628866  27.737974  84.0  120.00  143.0  157.75  239.0\n",
       "Wednesday    188.0  141.303191  25.782898  84.0  120.00  144.5  159.25  204.0"
      ]
     },
     "execution_count": 37,
     "metadata": {},
     "output_type": "execute_result"
    }
   ],
   "source": [
    "ts_clear.groupby('day.of.week').describe()['car.count']"
   ]
  },
  {
   "cell_type": "code",
   "execution_count": 38,
   "metadata": {},
   "outputs": [
    {
     "data": {
      "text/plain": [
       "<matplotlib.axes._subplots.AxesSubplot at 0x1a1c29c160>"
      ]
     },
     "execution_count": 38,
     "metadata": {},
     "output_type": "execute_result"
    },
    {
     "data": {
      "image/png": "[encoded data removed]",
      "text/plain": [
       "<matplotlib.figure.Figure at 0x11788f860>"
      ]
     },
     "metadata": {},
     "output_type": "display_data"
    }
   ],
   "source": [
    "#interpolated data\n",
    "plt.figure(figsize=(12,3))\n",
    "sns.boxplot(x='day.of.week', y='car.count', data = ts, order=['Monday', 'Tuesday', 'Wednesday', \n",
    "            'Thursday', 'Friday', 'Saturday','Sunday'])"
   ]
  },
  {
   "cell_type": "code",
   "execution_count": 39,
   "metadata": {},
   "outputs": [
    {
     "data": {
      "text/html": [
       "<div>\n",
       "<style>\n",
       "    .dataframe thead tr:only-child th {\n",
       "        text-align: right;\n",
       "    }\n",
       "\n",
       "    .dataframe thead th {\n",
       "        text-align: left;\n",
       "    }\n",
       "\n",
       "    .dataframe tbody tr th {\n",
       "        vertical-align: top;\n",
       "    }\n",
       "</style>\n",
       "<table border=\"1\" class=\"dataframe\">\n",
       "  <thead>\n",
       "    <tr style=\"text-align: right;\">\n",
       "      <th></th>\n",
       "      <th>count</th>\n",
       "      <th>mean</th>\n",
       "      <th>std</th>\n",
       "      <th>min</th>\n",
       "      <th>25%</th>\n",
       "      <th>50%</th>\n",
       "      <th>75%</th>\n",
       "      <th>max</th>\n",
       "    </tr>\n",
       "    <tr>\n",
       "      <th>day.of.week</th>\n",
       "      <th></th>\n",
       "      <th></th>\n",
       "      <th></th>\n",
       "      <th></th>\n",
       "      <th></th>\n",
       "      <th></th>\n",
       "      <th></th>\n",
       "      <th></th>\n",
       "    </tr>\n",
       "  </thead>\n",
       "  <tbody>\n",
       "    <tr>\n",
       "      <th>Friday</th>\n",
       "      <td>339.0</td>\n",
       "      <td>145.424566</td>\n",
       "      <td>25.400046</td>\n",
       "      <td>88.000000</td>\n",
       "      <td>127.000</td>\n",
       "      <td>146.000000</td>\n",
       "      <td>164.500000</td>\n",
       "      <td>211.000000</td>\n",
       "    </tr>\n",
       "    <tr>\n",
       "      <th>Monday</th>\n",
       "      <td>339.0</td>\n",
       "      <td>145.005086</td>\n",
       "      <td>25.232941</td>\n",
       "      <td>96.000000</td>\n",
       "      <td>125.500</td>\n",
       "      <td>147.000000</td>\n",
       "      <td>163.000000</td>\n",
       "      <td>224.166667</td>\n",
       "    </tr>\n",
       "    <tr>\n",
       "      <th>Saturday</th>\n",
       "      <td>339.0</td>\n",
       "      <td>146.446514</td>\n",
       "      <td>25.530608</td>\n",
       "      <td>96.333333</td>\n",
       "      <td>127.000</td>\n",
       "      <td>147.666667</td>\n",
       "      <td>165.100000</td>\n",
       "      <td>225.000000</td>\n",
       "    </tr>\n",
       "    <tr>\n",
       "      <th>Sunday</th>\n",
       "      <td>339.0</td>\n",
       "      <td>146.135055</td>\n",
       "      <td>24.757264</td>\n",
       "      <td>96.000000</td>\n",
       "      <td>126.375</td>\n",
       "      <td>147.666667</td>\n",
       "      <td>164.166667</td>\n",
       "      <td>209.333333</td>\n",
       "    </tr>\n",
       "    <tr>\n",
       "      <th>Thursday</th>\n",
       "      <td>338.0</td>\n",
       "      <td>143.942188</td>\n",
       "      <td>24.886163</td>\n",
       "      <td>81.000000</td>\n",
       "      <td>124.250</td>\n",
       "      <td>146.500000</td>\n",
       "      <td>163.383333</td>\n",
       "      <td>205.250000</td>\n",
       "    </tr>\n",
       "    <tr>\n",
       "      <th>Tuesday</th>\n",
       "      <td>339.0</td>\n",
       "      <td>141.909450</td>\n",
       "      <td>25.839449</td>\n",
       "      <td>84.000000</td>\n",
       "      <td>123.000</td>\n",
       "      <td>146.000000</td>\n",
       "      <td>159.833333</td>\n",
       "      <td>239.000000</td>\n",
       "    </tr>\n",
       "    <tr>\n",
       "      <th>Wednesday</th>\n",
       "      <td>339.0</td>\n",
       "      <td>142.122221</td>\n",
       "      <td>25.070541</td>\n",
       "      <td>84.000000</td>\n",
       "      <td>121.000</td>\n",
       "      <td>145.000000</td>\n",
       "      <td>161.000000</td>\n",
       "      <td>204.000000</td>\n",
       "    </tr>\n",
       "  </tbody>\n",
       "</table>\n",
       "</div>"
      ],
      "text/plain": [
       "             count        mean        std        min      25%         50%  \\\n",
       "day.of.week                                                                 \n",
       "Friday       339.0  145.424566  25.400046  88.000000  127.000  146.000000   \n",
       "Monday       339.0  145.005086  25.232941  96.000000  125.500  147.000000   \n",
       "Saturday     339.0  146.446514  25.530608  96.333333  127.000  147.666667   \n",
       "Sunday       339.0  146.135055  24.757264  96.000000  126.375  147.666667   \n",
       "Thursday     338.0  143.942188  24.886163  81.000000  124.250  146.500000   \n",
       "Tuesday      339.0  141.909450  25.839449  84.000000  123.000  146.000000   \n",
       "Wednesday    339.0  142.122221  25.070541  84.000000  121.000  145.000000   \n",
       "\n",
       "                    75%         max  \n",
       "day.of.week                          \n",
       "Friday       164.500000  211.000000  \n",
       "Monday       163.000000  224.166667  \n",
       "Saturday     165.100000  225.000000  \n",
       "Sunday       164.166667  209.333333  \n",
       "Thursday     163.383333  205.250000  \n",
       "Tuesday      159.833333  239.000000  \n",
       "Wednesday    161.000000  204.000000  "
      ]
     },
     "execution_count": 39,
     "metadata": {},
     "output_type": "execute_result"
    }
   ],
   "source": [
    "ts.groupby('day.of.week').describe()['car.count']"
   ]
  },
  {
   "cell_type": "markdown",
   "metadata": {},
   "source": [
    "### observations\n",
    "- Seem to have lost some of the variation by interpolating. For only clear days there is a larger variation \n",
    "in car counts per day then when interpolated data (cloudy days) is included. \n",
    "\n",
    "- However, they both agree that Saturday has the most cars and Tuesday has the fewest. \n",
    "\n",
    "Future action: look if there is a better way to predict cloudy days car count data. "
   ]
  },
  {
   "cell_type": "markdown",
   "metadata": {},
   "source": [
    "### Month"
   ]
  },
  {
   "cell_type": "code",
   "execution_count": 40,
   "metadata": {},
   "outputs": [
    {
     "data": {
      "text/plain": [
       "<matplotlib.axes._subplots.AxesSubplot at 0x1a1c29c080>"
      ]
     },
     "execution_count": 40,
     "metadata": {},
     "output_type": "execute_result"
    },
    {
     "data": {
      "image/png": "[encoded data removed]",
      "text/plain": [
       "<matplotlib.figure.Figure at 0x1a1c3ffba8>"
      ]
     },
     "metadata": {},
     "output_type": "display_data"
    }
   ],
   "source": [
    "#only clear days\n",
    "plt.figure(figsize=(12,3))\n",
    "sns.boxplot(x='month', y='car.count', data=ts_clear)"
   ]
  },
  {
   "cell_type": "code",
   "execution_count": 41,
   "metadata": {},
   "outputs": [
    {
     "data": {
      "text/plain": [
       "<matplotlib.axes._subplots.AxesSubplot at 0x11807f8d0>"
      ]
     },
     "execution_count": 41,
     "metadata": {},
     "output_type": "execute_result"
    },
    {
     "data": {
      "image/png": "[encoded data removed]",
      "text/plain": [
       "<matplotlib.figure.Figure at 0x118072860>"
      ]
     },
     "metadata": {},
     "output_type": "display_data"
    }
   ],
   "source": [
    "#interpolated data\n",
    "plt.figure(figsize=(12,3))\n",
    "sns.boxplot(x='month', y='car.count', data=ts)"
   ]
  },
  {
   "cell_type": "code",
   "execution_count": 42,
   "metadata": {},
   "outputs": [
    {
     "data": {
      "text/html": [
       "<div>\n",
       "<style>\n",
       "    .dataframe thead tr:only-child th {\n",
       "        text-align: right;\n",
       "    }\n",
       "\n",
       "    .dataframe thead th {\n",
       "        text-align: left;\n",
       "    }\n",
       "\n",
       "    .dataframe tbody tr th {\n",
       "        vertical-align: top;\n",
       "    }\n",
       "</style>\n",
       "<table border=\"1\" class=\"dataframe\">\n",
       "  <thead>\n",
       "    <tr style=\"text-align: right;\">\n",
       "      <th></th>\n",
       "      <th>count</th>\n",
       "      <th>mean</th>\n",
       "      <th>std</th>\n",
       "      <th>min</th>\n",
       "      <th>25%</th>\n",
       "      <th>50%</th>\n",
       "      <th>75%</th>\n",
       "      <th>max</th>\n",
       "    </tr>\n",
       "    <tr>\n",
       "      <th>month</th>\n",
       "      <th></th>\n",
       "      <th></th>\n",
       "      <th></th>\n",
       "      <th></th>\n",
       "      <th></th>\n",
       "      <th></th>\n",
       "      <th></th>\n",
       "      <th></th>\n",
       "    </tr>\n",
       "  </thead>\n",
       "  <tbody>\n",
       "    <tr>\n",
       "      <th>1</th>\n",
       "      <td>140.0</td>\n",
       "      <td>135.378571</td>\n",
       "      <td>26.899886</td>\n",
       "      <td>81.0</td>\n",
       "      <td>113.00</td>\n",
       "      <td>135.0</td>\n",
       "      <td>156.00</td>\n",
       "      <td>215.0</td>\n",
       "    </tr>\n",
       "    <tr>\n",
       "      <th>2</th>\n",
       "      <td>93.0</td>\n",
       "      <td>140.763441</td>\n",
       "      <td>27.101820</td>\n",
       "      <td>84.0</td>\n",
       "      <td>117.00</td>\n",
       "      <td>144.0</td>\n",
       "      <td>160.00</td>\n",
       "      <td>211.0</td>\n",
       "    </tr>\n",
       "    <tr>\n",
       "      <th>3</th>\n",
       "      <td>111.0</td>\n",
       "      <td>147.684685</td>\n",
       "      <td>28.543741</td>\n",
       "      <td>96.0</td>\n",
       "      <td>121.00</td>\n",
       "      <td>151.0</td>\n",
       "      <td>166.00</td>\n",
       "      <td>239.0</td>\n",
       "    </tr>\n",
       "    <tr>\n",
       "      <th>4</th>\n",
       "      <td>115.0</td>\n",
       "      <td>139.365217</td>\n",
       "      <td>25.603019</td>\n",
       "      <td>90.0</td>\n",
       "      <td>117.00</td>\n",
       "      <td>145.0</td>\n",
       "      <td>158.50</td>\n",
       "      <td>198.0</td>\n",
       "    </tr>\n",
       "    <tr>\n",
       "      <th>5</th>\n",
       "      <td>136.0</td>\n",
       "      <td>140.110294</td>\n",
       "      <td>25.476110</td>\n",
       "      <td>84.0</td>\n",
       "      <td>120.00</td>\n",
       "      <td>140.5</td>\n",
       "      <td>158.00</td>\n",
       "      <td>202.0</td>\n",
       "    </tr>\n",
       "    <tr>\n",
       "      <th>6</th>\n",
       "      <td>124.0</td>\n",
       "      <td>142.991935</td>\n",
       "      <td>25.437791</td>\n",
       "      <td>95.0</td>\n",
       "      <td>119.00</td>\n",
       "      <td>145.5</td>\n",
       "      <td>161.50</td>\n",
       "      <td>200.0</td>\n",
       "    </tr>\n",
       "    <tr>\n",
       "      <th>7</th>\n",
       "      <td>97.0</td>\n",
       "      <td>145.546392</td>\n",
       "      <td>25.260732</td>\n",
       "      <td>95.0</td>\n",
       "      <td>130.00</td>\n",
       "      <td>147.0</td>\n",
       "      <td>163.00</td>\n",
       "      <td>219.0</td>\n",
       "    </tr>\n",
       "    <tr>\n",
       "      <th>8</th>\n",
       "      <td>101.0</td>\n",
       "      <td>148.019802</td>\n",
       "      <td>21.800908</td>\n",
       "      <td>98.0</td>\n",
       "      <td>131.00</td>\n",
       "      <td>150.0</td>\n",
       "      <td>164.00</td>\n",
       "      <td>197.0</td>\n",
       "    </tr>\n",
       "    <tr>\n",
       "      <th>9</th>\n",
       "      <td>109.0</td>\n",
       "      <td>150.752294</td>\n",
       "      <td>23.995430</td>\n",
       "      <td>90.0</td>\n",
       "      <td>135.00</td>\n",
       "      <td>148.0</td>\n",
       "      <td>171.00</td>\n",
       "      <td>206.0</td>\n",
       "    </tr>\n",
       "    <tr>\n",
       "      <th>10</th>\n",
       "      <td>116.0</td>\n",
       "      <td>143.456897</td>\n",
       "      <td>23.928659</td>\n",
       "      <td>96.0</td>\n",
       "      <td>126.00</td>\n",
       "      <td>143.5</td>\n",
       "      <td>161.25</td>\n",
       "      <td>192.0</td>\n",
       "    </tr>\n",
       "    <tr>\n",
       "      <th>11</th>\n",
       "      <td>111.0</td>\n",
       "      <td>145.243243</td>\n",
       "      <td>27.169909</td>\n",
       "      <td>95.0</td>\n",
       "      <td>125.00</td>\n",
       "      <td>143.0</td>\n",
       "      <td>164.50</td>\n",
       "      <td>223.0</td>\n",
       "    </tr>\n",
       "    <tr>\n",
       "      <th>12</th>\n",
       "      <td>100.0</td>\n",
       "      <td>150.640000</td>\n",
       "      <td>26.581880</td>\n",
       "      <td>88.0</td>\n",
       "      <td>131.75</td>\n",
       "      <td>154.0</td>\n",
       "      <td>168.00</td>\n",
       "      <td>225.0</td>\n",
       "    </tr>\n",
       "  </tbody>\n",
       "</table>\n",
       "</div>"
      ],
      "text/plain": [
       "       count        mean        std   min     25%    50%     75%    max\n",
       "month                                                                  \n",
       "1      140.0  135.378571  26.899886  81.0  113.00  135.0  156.00  215.0\n",
       "2       93.0  140.763441  27.101820  84.0  117.00  144.0  160.00  211.0\n",
       "3      111.0  147.684685  28.543741  96.0  121.00  151.0  166.00  239.0\n",
       "4      115.0  139.365217  25.603019  90.0  117.00  145.0  158.50  198.0\n",
       "5      136.0  140.110294  25.476110  84.0  120.00  140.5  158.00  202.0\n",
       "6      124.0  142.991935  25.437791  95.0  119.00  145.5  161.50  200.0\n",
       "7       97.0  145.546392  25.260732  95.0  130.00  147.0  163.00  219.0\n",
       "8      101.0  148.019802  21.800908  98.0  131.00  150.0  164.00  197.0\n",
       "9      109.0  150.752294  23.995430  90.0  135.00  148.0  171.00  206.0\n",
       "10     116.0  143.456897  23.928659  96.0  126.00  143.5  161.25  192.0\n",
       "11     111.0  145.243243  27.169909  95.0  125.00  143.0  164.50  223.0\n",
       "12     100.0  150.640000  26.581880  88.0  131.75  154.0  168.00  225.0"
      ]
     },
     "execution_count": 42,
     "metadata": {},
     "output_type": "execute_result"
    }
   ],
   "source": [
    "#clear\n",
    "ts_clear.groupby('month').describe()['car.count']"
   ]
  },
  {
   "cell_type": "code",
   "execution_count": 43,
   "metadata": {},
   "outputs": [
    {
     "data": {
      "text/html": [
       "<div>\n",
       "<style>\n",
       "    .dataframe thead tr:only-child th {\n",
       "        text-align: right;\n",
       "    }\n",
       "\n",
       "    .dataframe thead th {\n",
       "        text-align: left;\n",
       "    }\n",
       "\n",
       "    .dataframe tbody tr th {\n",
       "        vertical-align: top;\n",
       "    }\n",
       "</style>\n",
       "<table border=\"1\" class=\"dataframe\">\n",
       "  <thead>\n",
       "    <tr style=\"text-align: right;\">\n",
       "      <th></th>\n",
       "      <th>count</th>\n",
       "      <th>mean</th>\n",
       "      <th>std</th>\n",
       "      <th>min</th>\n",
       "      <th>25%</th>\n",
       "      <th>50%</th>\n",
       "      <th>75%</th>\n",
       "      <th>max</th>\n",
       "    </tr>\n",
       "    <tr>\n",
       "      <th>month</th>\n",
       "      <th></th>\n",
       "      <th></th>\n",
       "      <th></th>\n",
       "      <th></th>\n",
       "      <th></th>\n",
       "      <th></th>\n",
       "      <th></th>\n",
       "      <th></th>\n",
       "    </tr>\n",
       "  </thead>\n",
       "  <tbody>\n",
       "    <tr>\n",
       "      <th>1</th>\n",
       "      <td>217.0</td>\n",
       "      <td>137.884079</td>\n",
       "      <td>26.829724</td>\n",
       "      <td>81.0</td>\n",
       "      <td>118.0000</td>\n",
       "      <td>138.000000</td>\n",
       "      <td>156.000000</td>\n",
       "      <td>215.0</td>\n",
       "    </tr>\n",
       "    <tr>\n",
       "      <th>2</th>\n",
       "      <td>198.0</td>\n",
       "      <td>140.193543</td>\n",
       "      <td>27.229267</td>\n",
       "      <td>84.0</td>\n",
       "      <td>116.0000</td>\n",
       "      <td>144.285714</td>\n",
       "      <td>161.000000</td>\n",
       "      <td>211.0</td>\n",
       "    </tr>\n",
       "    <tr>\n",
       "      <th>3</th>\n",
       "      <td>217.0</td>\n",
       "      <td>146.598387</td>\n",
       "      <td>27.032490</td>\n",
       "      <td>96.0</td>\n",
       "      <td>121.0000</td>\n",
       "      <td>151.000000</td>\n",
       "      <td>165.000000</td>\n",
       "      <td>239.0</td>\n",
       "    </tr>\n",
       "    <tr>\n",
       "      <th>4</th>\n",
       "      <td>210.0</td>\n",
       "      <td>140.066190</td>\n",
       "      <td>23.564479</td>\n",
       "      <td>90.0</td>\n",
       "      <td>121.0000</td>\n",
       "      <td>143.166667</td>\n",
       "      <td>158.750000</td>\n",
       "      <td>198.0</td>\n",
       "    </tr>\n",
       "    <tr>\n",
       "      <th>5</th>\n",
       "      <td>217.0</td>\n",
       "      <td>141.561060</td>\n",
       "      <td>25.104785</td>\n",
       "      <td>84.0</td>\n",
       "      <td>120.0000</td>\n",
       "      <td>142.000000</td>\n",
       "      <td>160.000000</td>\n",
       "      <td>202.0</td>\n",
       "    </tr>\n",
       "    <tr>\n",
       "      <th>6</th>\n",
       "      <td>209.0</td>\n",
       "      <td>144.333732</td>\n",
       "      <td>25.298040</td>\n",
       "      <td>95.0</td>\n",
       "      <td>119.0000</td>\n",
       "      <td>149.333333</td>\n",
       "      <td>164.500000</td>\n",
       "      <td>200.0</td>\n",
       "    </tr>\n",
       "    <tr>\n",
       "      <th>7</th>\n",
       "      <td>186.0</td>\n",
       "      <td>144.185185</td>\n",
       "      <td>24.052234</td>\n",
       "      <td>95.0</td>\n",
       "      <td>130.0000</td>\n",
       "      <td>147.000000</td>\n",
       "      <td>159.833333</td>\n",
       "      <td>219.0</td>\n",
       "    </tr>\n",
       "    <tr>\n",
       "      <th>8</th>\n",
       "      <td>186.0</td>\n",
       "      <td>148.551374</td>\n",
       "      <td>20.996320</td>\n",
       "      <td>97.5</td>\n",
       "      <td>132.3125</td>\n",
       "      <td>150.000000</td>\n",
       "      <td>164.000000</td>\n",
       "      <td>197.0</td>\n",
       "    </tr>\n",
       "    <tr>\n",
       "      <th>9</th>\n",
       "      <td>180.0</td>\n",
       "      <td>151.870000</td>\n",
       "      <td>23.975003</td>\n",
       "      <td>90.0</td>\n",
       "      <td>134.6250</td>\n",
       "      <td>151.000000</td>\n",
       "      <td>172.083333</td>\n",
       "      <td>206.0</td>\n",
       "    </tr>\n",
       "    <tr>\n",
       "      <th>10</th>\n",
       "      <td>186.0</td>\n",
       "      <td>145.227957</td>\n",
       "      <td>22.815496</td>\n",
       "      <td>96.0</td>\n",
       "      <td>128.0000</td>\n",
       "      <td>145.785714</td>\n",
       "      <td>162.000000</td>\n",
       "      <td>192.0</td>\n",
       "    </tr>\n",
       "    <tr>\n",
       "      <th>11</th>\n",
       "      <td>180.0</td>\n",
       "      <td>145.438889</td>\n",
       "      <td>25.475664</td>\n",
       "      <td>95.0</td>\n",
       "      <td>127.7500</td>\n",
       "      <td>145.500000</td>\n",
       "      <td>164.625000</td>\n",
       "      <td>223.0</td>\n",
       "    </tr>\n",
       "    <tr>\n",
       "      <th>12</th>\n",
       "      <td>186.0</td>\n",
       "      <td>149.535394</td>\n",
       "      <td>26.288183</td>\n",
       "      <td>88.0</td>\n",
       "      <td>127.0000</td>\n",
       "      <td>153.500000</td>\n",
       "      <td>168.000000</td>\n",
       "      <td>225.0</td>\n",
       "    </tr>\n",
       "  </tbody>\n",
       "</table>\n",
       "</div>"
      ],
      "text/plain": [
       "       count        mean        std   min       25%         50%         75%  \\\n",
       "month                                                                         \n",
       "1      217.0  137.884079  26.829724  81.0  118.0000  138.000000  156.000000   \n",
       "2      198.0  140.193543  27.229267  84.0  116.0000  144.285714  161.000000   \n",
       "3      217.0  146.598387  27.032490  96.0  121.0000  151.000000  165.000000   \n",
       "4      210.0  140.066190  23.564479  90.0  121.0000  143.166667  158.750000   \n",
       "5      217.0  141.561060  25.104785  84.0  120.0000  142.000000  160.000000   \n",
       "6      209.0  144.333732  25.298040  95.0  119.0000  149.333333  164.500000   \n",
       "7      186.0  144.185185  24.052234  95.0  130.0000  147.000000  159.833333   \n",
       "8      186.0  148.551374  20.996320  97.5  132.3125  150.000000  164.000000   \n",
       "9      180.0  151.870000  23.975003  90.0  134.6250  151.000000  172.083333   \n",
       "10     186.0  145.227957  22.815496  96.0  128.0000  145.785714  162.000000   \n",
       "11     180.0  145.438889  25.475664  95.0  127.7500  145.500000  164.625000   \n",
       "12     186.0  149.535394  26.288183  88.0  127.0000  153.500000  168.000000   \n",
       "\n",
       "         max  \n",
       "month         \n",
       "1      215.0  \n",
       "2      211.0  \n",
       "3      239.0  \n",
       "4      198.0  \n",
       "5      202.0  \n",
       "6      200.0  \n",
       "7      219.0  \n",
       "8      197.0  \n",
       "9      206.0  \n",
       "10     192.0  \n",
       "11     223.0  \n",
       "12     225.0  "
      ]
     },
     "execution_count": 43,
     "metadata": {},
     "output_type": "execute_result"
    }
   ],
   "source": [
    "#interpolated\n",
    "ts.groupby('month').describe()['car.count']"
   ]
  },
  {
   "cell_type": "markdown",
   "metadata": {},
   "source": [
    "### observations\n",
    "- Both clear and interpolated data agree that September has the most cars followed closely by December. \n",
    "- January is a low month for car counts. "
   ]
  },
  {
   "cell_type": "markdown",
   "metadata": {},
   "source": [
    "### Years"
   ]
  },
  {
   "cell_type": "code",
   "execution_count": 44,
   "metadata": {
    "scrolled": true
   },
   "outputs": [
    {
     "data": {
      "text/plain": [
       "<matplotlib.axes._subplots.AxesSubplot at 0x109a5dc88>"
      ]
     },
     "execution_count": 44,
     "metadata": {},
     "output_type": "execute_result"
    },
    {
     "data": {
      "image/png": "[encoded data removed]",
      "text/plain": [
       "<matplotlib.figure.Figure at 0x118077828>"
      ]
     },
     "metadata": {},
     "output_type": "display_data"
    }
   ],
   "source": [
    "#clear data\n",
    "plt.figure(figsize=(12,3))\n",
    "sns.boxplot(x='year', y='car.count', data=ts_clear)"
   ]
  },
  {
   "cell_type": "code",
   "execution_count": 45,
   "metadata": {
    "scrolled": true
   },
   "outputs": [
    {
     "data": {
      "text/plain": [
       "<matplotlib.axes._subplots.AxesSubplot at 0x1111dc780>"
      ]
     },
     "execution_count": 45,
     "metadata": {},
     "output_type": "execute_result"
    },
    {
     "data": {
      "image/png": "[encoded data removed]",
      "text/plain": [
       "<matplotlib.figure.Figure at 0x117873dd8>"
      ]
     },
     "metadata": {},
     "output_type": "display_data"
    }
   ],
   "source": [
    "#interpolated\n",
    "plt.figure(figsize=(12,3))\n",
    "sns.boxplot(x='year', y='car.count', data=ts)"
   ]
  },
  {
   "cell_type": "code",
   "execution_count": 46,
   "metadata": {},
   "outputs": [
    {
     "data": {
      "text/html": [
       "<div>\n",
       "<style>\n",
       "    .dataframe thead tr:only-child th {\n",
       "        text-align: right;\n",
       "    }\n",
       "\n",
       "    .dataframe thead th {\n",
       "        text-align: left;\n",
       "    }\n",
       "\n",
       "    .dataframe tbody tr th {\n",
       "        vertical-align: top;\n",
       "    }\n",
       "</style>\n",
       "<table border=\"1\" class=\"dataframe\">\n",
       "  <thead>\n",
       "    <tr style=\"text-align: right;\">\n",
       "      <th></th>\n",
       "      <th>count</th>\n",
       "      <th>mean</th>\n",
       "      <th>std</th>\n",
       "      <th>min</th>\n",
       "      <th>25%</th>\n",
       "      <th>50%</th>\n",
       "      <th>75%</th>\n",
       "      <th>max</th>\n",
       "    </tr>\n",
       "    <tr>\n",
       "      <th>year</th>\n",
       "      <th></th>\n",
       "      <th></th>\n",
       "      <th></th>\n",
       "      <th></th>\n",
       "      <th></th>\n",
       "      <th></th>\n",
       "      <th></th>\n",
       "      <th></th>\n",
       "    </tr>\n",
       "  </thead>\n",
       "  <tbody>\n",
       "    <tr>\n",
       "      <th>2010</th>\n",
       "      <td>226.0</td>\n",
       "      <td>130.035398</td>\n",
       "      <td>20.950706</td>\n",
       "      <td>81.0</td>\n",
       "      <td>115.25</td>\n",
       "      <td>130.0</td>\n",
       "      <td>145.0</td>\n",
       "      <td>192.0</td>\n",
       "    </tr>\n",
       "    <tr>\n",
       "      <th>2011</th>\n",
       "      <td>197.0</td>\n",
       "      <td>164.126904</td>\n",
       "      <td>16.714565</td>\n",
       "      <td>131.0</td>\n",
       "      <td>151.00</td>\n",
       "      <td>162.0</td>\n",
       "      <td>174.0</td>\n",
       "      <td>239.0</td>\n",
       "    </tr>\n",
       "    <tr>\n",
       "      <th>2012</th>\n",
       "      <td>215.0</td>\n",
       "      <td>169.893023</td>\n",
       "      <td>14.556134</td>\n",
       "      <td>143.0</td>\n",
       "      <td>160.00</td>\n",
       "      <td>168.0</td>\n",
       "      <td>178.0</td>\n",
       "      <td>223.0</td>\n",
       "    </tr>\n",
       "    <tr>\n",
       "      <th>2013</th>\n",
       "      <td>195.0</td>\n",
       "      <td>158.625641</td>\n",
       "      <td>15.326628</td>\n",
       "      <td>130.0</td>\n",
       "      <td>147.00</td>\n",
       "      <td>156.0</td>\n",
       "      <td>166.0</td>\n",
       "      <td>211.0</td>\n",
       "    </tr>\n",
       "    <tr>\n",
       "      <th>2014</th>\n",
       "      <td>198.0</td>\n",
       "      <td>139.782828</td>\n",
       "      <td>15.348351</td>\n",
       "      <td>110.0</td>\n",
       "      <td>129.00</td>\n",
       "      <td>137.0</td>\n",
       "      <td>149.0</td>\n",
       "      <td>186.0</td>\n",
       "    </tr>\n",
       "    <tr>\n",
       "      <th>2015</th>\n",
       "      <td>209.0</td>\n",
       "      <td>118.617225</td>\n",
       "      <td>16.064380</td>\n",
       "      <td>88.0</td>\n",
       "      <td>106.00</td>\n",
       "      <td>117.0</td>\n",
       "      <td>128.0</td>\n",
       "      <td>196.0</td>\n",
       "    </tr>\n",
       "    <tr>\n",
       "      <th>2016</th>\n",
       "      <td>113.0</td>\n",
       "      <td>114.415929</td>\n",
       "      <td>15.045007</td>\n",
       "      <td>84.0</td>\n",
       "      <td>103.00</td>\n",
       "      <td>114.0</td>\n",
       "      <td>125.0</td>\n",
       "      <td>154.0</td>\n",
       "    </tr>\n",
       "  </tbody>\n",
       "</table>\n",
       "</div>"
      ],
      "text/plain": [
       "      count        mean        std    min     25%    50%    75%    max\n",
       "year                                                                  \n",
       "2010  226.0  130.035398  20.950706   81.0  115.25  130.0  145.0  192.0\n",
       "2011  197.0  164.126904  16.714565  131.0  151.00  162.0  174.0  239.0\n",
       "2012  215.0  169.893023  14.556134  143.0  160.00  168.0  178.0  223.0\n",
       "2013  195.0  158.625641  15.326628  130.0  147.00  156.0  166.0  211.0\n",
       "2014  198.0  139.782828  15.348351  110.0  129.00  137.0  149.0  186.0\n",
       "2015  209.0  118.617225  16.064380   88.0  106.00  117.0  128.0  196.0\n",
       "2016  113.0  114.415929  15.045007   84.0  103.00  114.0  125.0  154.0"
      ]
     },
     "execution_count": 46,
     "metadata": {},
     "output_type": "execute_result"
    }
   ],
   "source": [
    "#clear\n",
    "ts_clear.groupby('year').describe()['car.count']"
   ]
  },
  {
   "cell_type": "code",
   "execution_count": 47,
   "metadata": {},
   "outputs": [
    {
     "data": {
      "text/html": [
       "<div>\n",
       "<style>\n",
       "    .dataframe thead tr:only-child th {\n",
       "        text-align: right;\n",
       "    }\n",
       "\n",
       "    .dataframe thead th {\n",
       "        text-align: left;\n",
       "    }\n",
       "\n",
       "    .dataframe tbody tr th {\n",
       "        vertical-align: top;\n",
       "    }\n",
       "</style>\n",
       "<table border=\"1\" class=\"dataframe\">\n",
       "  <thead>\n",
       "    <tr style=\"text-align: right;\">\n",
       "      <th></th>\n",
       "      <th>count</th>\n",
       "      <th>mean</th>\n",
       "      <th>std</th>\n",
       "      <th>min</th>\n",
       "      <th>25%</th>\n",
       "      <th>50%</th>\n",
       "      <th>75%</th>\n",
       "      <th>max</th>\n",
       "    </tr>\n",
       "    <tr>\n",
       "      <th>year</th>\n",
       "      <th></th>\n",
       "      <th></th>\n",
       "      <th></th>\n",
       "      <th></th>\n",
       "      <th></th>\n",
       "      <th></th>\n",
       "      <th></th>\n",
       "      <th></th>\n",
       "    </tr>\n",
       "  </thead>\n",
       "  <tbody>\n",
       "    <tr>\n",
       "      <th>2010</th>\n",
       "      <td>365.0</td>\n",
       "      <td>129.201370</td>\n",
       "      <td>20.076254</td>\n",
       "      <td>81.0</td>\n",
       "      <td>116.000000</td>\n",
       "      <td>129.000000</td>\n",
       "      <td>144.000</td>\n",
       "      <td>192.0</td>\n",
       "    </tr>\n",
       "    <tr>\n",
       "      <th>2011</th>\n",
       "      <td>365.0</td>\n",
       "      <td>164.819178</td>\n",
       "      <td>15.550793</td>\n",
       "      <td>131.0</td>\n",
       "      <td>154.500000</td>\n",
       "      <td>164.000000</td>\n",
       "      <td>174.000</td>\n",
       "      <td>239.0</td>\n",
       "    </tr>\n",
       "    <tr>\n",
       "      <th>2012</th>\n",
       "      <td>366.0</td>\n",
       "      <td>169.532787</td>\n",
       "      <td>14.040771</td>\n",
       "      <td>143.0</td>\n",
       "      <td>159.500000</td>\n",
       "      <td>167.666667</td>\n",
       "      <td>177.375</td>\n",
       "      <td>223.0</td>\n",
       "    </tr>\n",
       "    <tr>\n",
       "      <th>2013</th>\n",
       "      <td>365.0</td>\n",
       "      <td>158.904795</td>\n",
       "      <td>13.399177</td>\n",
       "      <td>130.0</td>\n",
       "      <td>150.500000</td>\n",
       "      <td>157.000000</td>\n",
       "      <td>166.000</td>\n",
       "      <td>211.0</td>\n",
       "    </tr>\n",
       "    <tr>\n",
       "      <th>2014</th>\n",
       "      <td>365.0</td>\n",
       "      <td>139.433105</td>\n",
       "      <td>14.304649</td>\n",
       "      <td>110.0</td>\n",
       "      <td>129.250000</td>\n",
       "      <td>137.166667</td>\n",
       "      <td>148.250</td>\n",
       "      <td>186.0</td>\n",
       "    </tr>\n",
       "    <tr>\n",
       "      <th>2015</th>\n",
       "      <td>365.0</td>\n",
       "      <td>119.519635</td>\n",
       "      <td>15.767198</td>\n",
       "      <td>88.0</td>\n",
       "      <td>108.500000</td>\n",
       "      <td>118.000000</td>\n",
       "      <td>128.000</td>\n",
       "      <td>196.0</td>\n",
       "    </tr>\n",
       "    <tr>\n",
       "      <th>2016</th>\n",
       "      <td>181.0</td>\n",
       "      <td>114.339779</td>\n",
       "      <td>13.829961</td>\n",
       "      <td>84.0</td>\n",
       "      <td>103.333333</td>\n",
       "      <td>114.000000</td>\n",
       "      <td>123.000</td>\n",
       "      <td>154.0</td>\n",
       "    </tr>\n",
       "  </tbody>\n",
       "</table>\n",
       "</div>"
      ],
      "text/plain": [
       "      count        mean        std    min         25%         50%      75%  \\\n",
       "year                                                                         \n",
       "2010  365.0  129.201370  20.076254   81.0  116.000000  129.000000  144.000   \n",
       "2011  365.0  164.819178  15.550793  131.0  154.500000  164.000000  174.000   \n",
       "2012  366.0  169.532787  14.040771  143.0  159.500000  167.666667  177.375   \n",
       "2013  365.0  158.904795  13.399177  130.0  150.500000  157.000000  166.000   \n",
       "2014  365.0  139.433105  14.304649  110.0  129.250000  137.166667  148.250   \n",
       "2015  365.0  119.519635  15.767198   88.0  108.500000  118.000000  128.000   \n",
       "2016  181.0  114.339779  13.829961   84.0  103.333333  114.000000  123.000   \n",
       "\n",
       "        max  \n",
       "year         \n",
       "2010  192.0  \n",
       "2011  239.0  \n",
       "2012  223.0  \n",
       "2013  211.0  \n",
       "2014  186.0  \n",
       "2015  196.0  \n",
       "2016  154.0  "
      ]
     },
     "execution_count": 47,
     "metadata": {},
     "output_type": "execute_result"
    }
   ],
   "source": [
    "#interpolated\n",
    "ts.groupby('year').describe()['car.count']"
   ]
  },
  {
   "cell_type": "markdown",
   "metadata": {},
   "source": [
    "### Plot observations\n",
    "- There are a couple of outliers in the data. I will keep them for now but might want to investigate them in the future. \n",
    "- There is slightly more cars on weekends, less cars in the middle of the week. \n",
    "- There seem to be a weak sinuisodal trend in amounts of cars throughout the year (month plot).\n",
    "- There is an increasing trend between 2010-2012 then the amount of cars decreseas between 2012-2016 and reaches approx the 2010 value again.\n",
    "\n",
    "Action: Try to remove trends and seasonal effects."
   ]
  },
  {
   "cell_type": "markdown",
   "metadata": {},
   "source": [
    "# Attempt to make the count.cars stationary"
   ]
  },
  {
   "cell_type": "code",
   "execution_count": 48,
   "metadata": {},
   "outputs": [
    {
     "name": "stderr",
     "output_type": "stream",
     "text": [
      "/Users/elliotdahl/anaconda3/lib/python3.6/site-packages/statsmodels/compat/pandas.py:56: FutureWarning: The pandas.core.datetools module is deprecated and will be removed in a future version. Please use the pandas.tseries module instead.\n",
      "  from pandas.core import datetools\n"
     ]
    }
   ],
   "source": [
    "from statsmodels.tsa.stattools import adfuller;"
   ]
  },
  {
   "cell_type": "markdown",
   "metadata": {},
   "source": [
    "Augmented Dickey–Fuller test has the null hypothesis that the data is non stationary. "
   ]
  },
  {
   "cell_type": "code",
   "execution_count": 49,
   "metadata": {},
   "outputs": [
    {
     "name": "stdout",
     "output_type": "stream",
     "text": [
      "ADF Statistic: -1.864692\n",
      "p-value: 0.348849\n",
      "Critical Values:\n",
      "\t1%: -3.433\n",
      "\t5%: -2.863\n",
      "\t10%: -2.567\n"
     ]
    }
   ],
   "source": [
    "result = adfuller(ts_cc_clear_inter)\n",
    "print('ADF Statistic: %f' % result[0])\n",
    "print('p-value: %f' % result[1])\n",
    "print('Critical Values:')\n",
    "for key, value in result[4].items():\n",
    "    print('\\t%s: %.3f' % (key, value))"
   ]
  },
  {
   "cell_type": "markdown",
   "metadata": {},
   "source": [
    "### observations\n",
    "- The data is non stationary according to the p-value, but this I already knew looking at \n",
    "both the trend above and some of the seasonal effects. Shows that Dickey–Fuller test works for this data set. "
   ]
  },
  {
   "cell_type": "markdown",
   "metadata": {},
   "source": [
    "### The data is clearly not stationary, has a huge trend in it and some seasonal effects"
   ]
  },
  {
   "cell_type": "markdown",
   "metadata": {},
   "source": [
    "### Trend"
   ]
  },
  {
   "cell_type": "code",
   "execution_count": 50,
   "metadata": {},
   "outputs": [
    {
     "data": {
      "text/plain": [
       "[<matplotlib.lines.Line2D at 0x1c1d086908>]"
      ]
     },
     "execution_count": 50,
     "metadata": {},
     "output_type": "execute_result"
    },
    {
     "data": {
      "image/png": "[encoded data removed]",
      "text/plain": [
       "<matplotlib.figure.Figure at 0x109a64550>"
      ]
     },
     "metadata": {},
     "output_type": "display_data"
    }
   ],
   "source": [
    "#Find trend\n",
    "from scipy.optimize import curve_fit\n",
    "def func(x, a, b, c, d):\n",
    "    return a + b*x + c*x**2 + d*x**3\n",
    "\n",
    "xdata = np.arange(0,len(ts_cc_clear_inter))\n",
    "popt, pcov = curve_fit(func, xdata, ts_cc_clear_inter.values)\n",
    "background_trend = func(xdata, *popt)\n",
    "\n",
    "plt.figure()\n",
    "plt.plot(xdata,ts_cc_clear_inter)\n",
    "plt.plot(xdata, background_trend)"
   ]
  },
  {
   "cell_type": "code",
   "execution_count": 51,
   "metadata": {},
   "outputs": [
    {
     "data": {
      "text/plain": [
       "[<matplotlib.lines.Line2D at 0x1c1cc1f4e0>]"
      ]
     },
     "execution_count": 51,
     "metadata": {},
     "output_type": "execute_result"
    },
    {
     "data": {
      "image/png": "[encoded data removed]",
      "text/plain": [
       "<matplotlib.figure.Figure at 0x1c1d061cf8>"
      ]
     },
     "metadata": {},
     "output_type": "display_data"
    }
   ],
   "source": [
    "ts_cc_clear_inter_b = ts_cc_clear_inter-background_trend\n",
    "\n",
    "plt.figure()\n",
    "plt.plot((ts_cc_clear_inter_b),'o')"
   ]
  },
  {
   "cell_type": "code",
   "execution_count": 52,
   "metadata": {},
   "outputs": [
    {
     "data": {
      "text/plain": [
       "<matplotlib.axes._subplots.AxesSubplot at 0x1c1d07dac8>"
      ]
     },
     "execution_count": 52,
     "metadata": {},
     "output_type": "execute_result"
    },
    {
     "data": {
      "image/png": "[encoded data removed]",
      "text/plain": [
       "<matplotlib.figure.Figure at 0x1c1d6d9b38>"
      ]
     },
     "metadata": {},
     "output_type": "display_data"
    }
   ],
   "source": [
    "sns.distplot(ts_cc_clear_inter_b)"
   ]
  },
  {
   "cell_type": "code",
   "execution_count": 53,
   "metadata": {},
   "outputs": [
    {
     "data": {
      "text/plain": [
       "2.588241864863733e-07"
      ]
     },
     "execution_count": 53,
     "metadata": {},
     "output_type": "execute_result"
    }
   ],
   "source": [
    "ts_cc_clear_inter_b.mean()"
   ]
  },
  {
   "cell_type": "markdown",
   "metadata": {},
   "source": [
    "### Plot observation\n",
    "- The possible outliers seem to have made the distribution plot a little bit non-symmetric. Right tail due to outliers.  \n",
    "\n",
    "Future action: Look if the predictions would be better without the outliers?  "
   ]
  },
  {
   "cell_type": "code",
   "execution_count": 54,
   "metadata": {
    "collapsed": true
   },
   "outputs": [],
   "source": [
    "ts['car_count_no_trend'] = ts_cc_clear_inter_b.values"
   ]
  },
  {
   "cell_type": "code",
   "execution_count": 55,
   "metadata": {},
   "outputs": [
    {
     "data": {
      "text/plain": [
       "<matplotlib.axes._subplots.AxesSubplot at 0x1c1d6d9080>"
      ]
     },
     "execution_count": 55,
     "metadata": {},
     "output_type": "execute_result"
    },
    {
     "data": {
      "image/png": "[encoded data removed]",
      "text/plain": [
       "<matplotlib.figure.Figure at 0x1c1cd496d8>"
      ]
     },
     "metadata": {},
     "output_type": "display_data"
    }
   ],
   "source": [
    "sns.boxplot(x='year', y='car_count_no_trend', data=ts)"
   ]
  },
  {
   "cell_type": "markdown",
   "metadata": {},
   "source": [
    "## Removing the seasonal effects"
   ]
  },
  {
   "cell_type": "markdown",
   "metadata": {},
   "source": [
    "## Day of the week effect"
   ]
  },
  {
   "cell_type": "code",
   "execution_count": 56,
   "metadata": {},
   "outputs": [
    {
     "data": {
      "text/html": [
       "<div>\n",
       "<style>\n",
       "    .dataframe thead tr:only-child th {\n",
       "        text-align: right;\n",
       "    }\n",
       "\n",
       "    .dataframe thead th {\n",
       "        text-align: left;\n",
       "    }\n",
       "\n",
       "    .dataframe tbody tr th {\n",
       "        vertical-align: top;\n",
       "    }\n",
       "</style>\n",
       "<table border=\"1\" class=\"dataframe\">\n",
       "  <thead>\n",
       "    <tr style=\"text-align: right;\">\n",
       "      <th></th>\n",
       "      <th>date</th>\n",
       "      <th>day.of.week</th>\n",
       "      <th>car.count</th>\n",
       "      <th>weather</th>\n",
       "      <th>cloud.indicator</th>\n",
       "      <th>year</th>\n",
       "      <th>month</th>\n",
       "      <th>car_count_no_trend</th>\n",
       "    </tr>\n",
       "  </thead>\n",
       "  <tbody>\n",
       "    <tr>\n",
       "      <th>0</th>\n",
       "      <td>2010-01-01</td>\n",
       "      <td>Friday</td>\n",
       "      <td>101.0</td>\n",
       "      <td>0.1</td>\n",
       "      <td>clear</td>\n",
       "      <td>2010</td>\n",
       "      <td>1</td>\n",
       "      <td>0.903291</td>\n",
       "    </tr>\n",
       "    <tr>\n",
       "      <th>1</th>\n",
       "      <td>2010-01-02</td>\n",
       "      <td>Saturday</td>\n",
       "      <td>107.0</td>\n",
       "      <td>0.2</td>\n",
       "      <td>cloudy</td>\n",
       "      <td>2010</td>\n",
       "      <td>1</td>\n",
       "      <td>6.706722</td>\n",
       "    </tr>\n",
       "    <tr>\n",
       "      <th>2</th>\n",
       "      <td>2010-01-03</td>\n",
       "      <td>Sunday</td>\n",
       "      <td>113.0</td>\n",
       "      <td>0.4</td>\n",
       "      <td>clear</td>\n",
       "      <td>2010</td>\n",
       "      <td>1</td>\n",
       "      <td>12.510474</td>\n",
       "    </tr>\n",
       "    <tr>\n",
       "      <th>3</th>\n",
       "      <td>2010-01-04</td>\n",
       "      <td>Monday</td>\n",
       "      <td>118.5</td>\n",
       "      <td>0.6</td>\n",
       "      <td>cloudy</td>\n",
       "      <td>2010</td>\n",
       "      <td>1</td>\n",
       "      <td>17.814548</td>\n",
       "    </tr>\n",
       "    <tr>\n",
       "      <th>4</th>\n",
       "      <td>2010-01-05</td>\n",
       "      <td>Tuesday</td>\n",
       "      <td>124.0</td>\n",
       "      <td>0.1</td>\n",
       "      <td>clear</td>\n",
       "      <td>2010</td>\n",
       "      <td>1</td>\n",
       "      <td>23.118943</td>\n",
       "    </tr>\n",
       "  </tbody>\n",
       "</table>\n",
       "</div>"
      ],
      "text/plain": [
       "        date day.of.week  car.count  weather cloud.indicator  year  month  \\\n",
       "0 2010-01-01      Friday      101.0      0.1           clear  2010      1   \n",
       "1 2010-01-02    Saturday      107.0      0.2          cloudy  2010      1   \n",
       "2 2010-01-03      Sunday      113.0      0.4           clear  2010      1   \n",
       "3 2010-01-04      Monday      118.5      0.6          cloudy  2010      1   \n",
       "4 2010-01-05     Tuesday      124.0      0.1           clear  2010      1   \n",
       "\n",
       "   car_count_no_trend  \n",
       "0            0.903291  \n",
       "1            6.706722  \n",
       "2           12.510474  \n",
       "3           17.814548  \n",
       "4           23.118943  "
      ]
     },
     "execution_count": 56,
     "metadata": {},
     "output_type": "execute_result"
    }
   ],
   "source": [
    "ts.head()"
   ]
  },
  {
   "cell_type": "code",
   "execution_count": 57,
   "metadata": {},
   "outputs": [
    {
     "data": {
      "text/plain": [
       "<matplotlib.axes._subplots.AxesSubplot at 0x1c1cd39f60>"
      ]
     },
     "execution_count": 57,
     "metadata": {},
     "output_type": "execute_result"
    },
    {
     "data": {
      "image/png": "[encoded data removed]",
      "text/plain": [
       "<matplotlib.figure.Figure at 0x1c1cd82668>"
      ]
     },
     "metadata": {},
     "output_type": "display_data"
    }
   ],
   "source": [
    "sns.boxplot(x='day.of.week', y='car_count_no_trend', data=ts)"
   ]
  },
  {
   "cell_type": "code",
   "execution_count": 58,
   "metadata": {},
   "outputs": [
    {
     "data": {
      "text/html": [
       "<div>\n",
       "<style>\n",
       "    .dataframe thead tr:only-child th {\n",
       "        text-align: right;\n",
       "    }\n",
       "\n",
       "    .dataframe thead th {\n",
       "        text-align: left;\n",
       "    }\n",
       "\n",
       "    .dataframe tbody tr th {\n",
       "        vertical-align: top;\n",
       "    }\n",
       "</style>\n",
       "<table border=\"1\" class=\"dataframe\">\n",
       "  <thead>\n",
       "    <tr style=\"text-align: right;\">\n",
       "      <th></th>\n",
       "      <th>count</th>\n",
       "      <th>mean</th>\n",
       "      <th>std</th>\n",
       "      <th>min</th>\n",
       "      <th>25%</th>\n",
       "      <th>50%</th>\n",
       "      <th>75%</th>\n",
       "      <th>max</th>\n",
       "    </tr>\n",
       "    <tr>\n",
       "      <th>day.of.week</th>\n",
       "      <th></th>\n",
       "      <th></th>\n",
       "      <th></th>\n",
       "      <th></th>\n",
       "      <th></th>\n",
       "      <th></th>\n",
       "      <th></th>\n",
       "      <th></th>\n",
       "    </tr>\n",
       "  </thead>\n",
       "  <tbody>\n",
       "    <tr>\n",
       "      <th>Friday</th>\n",
       "      <td>339.0</td>\n",
       "      <td>1.027497</td>\n",
       "      <td>13.779961</td>\n",
       "      <td>-26.145023</td>\n",
       "      <td>-7.865115</td>\n",
       "      <td>-1.291928</td>\n",
       "      <td>8.349550</td>\n",
       "      <td>60.379980</td>\n",
       "    </tr>\n",
       "    <tr>\n",
       "      <th>Monday</th>\n",
       "      <td>339.0</td>\n",
       "      <td>0.591678</td>\n",
       "      <td>14.380959</td>\n",
       "      <td>-25.189361</td>\n",
       "      <td>-9.687552</td>\n",
       "      <td>-1.830016</td>\n",
       "      <td>7.977419</td>\n",
       "      <td>66.545547</td>\n",
       "    </tr>\n",
       "    <tr>\n",
       "      <th>Saturday</th>\n",
       "      <td>339.0</td>\n",
       "      <td>2.043918</td>\n",
       "      <td>13.753488</td>\n",
       "      <td>-24.524510</td>\n",
       "      <td>-8.006579</td>\n",
       "      <td>-0.106017</td>\n",
       "      <td>9.880302</td>\n",
       "      <td>70.679105</td>\n",
       "    </tr>\n",
       "    <tr>\n",
       "      <th>Sunday</th>\n",
       "      <td>339.0</td>\n",
       "      <td>1.727012</td>\n",
       "      <td>13.174378</td>\n",
       "      <td>-21.818747</td>\n",
       "      <td>-8.949911</td>\n",
       "      <td>0.763759</td>\n",
       "      <td>9.264246</td>\n",
       "      <td>52.391966</td>\n",
       "    </tr>\n",
       "    <tr>\n",
       "      <th>Thursday</th>\n",
       "      <td>338.0</td>\n",
       "      <td>-0.580903</td>\n",
       "      <td>12.744600</td>\n",
       "      <td>-30.543901</td>\n",
       "      <td>-9.585159</td>\n",
       "      <td>-2.143645</td>\n",
       "      <td>6.759554</td>\n",
       "      <td>50.080795</td>\n",
       "    </tr>\n",
       "    <tr>\n",
       "      <th>Tuesday</th>\n",
       "      <td>339.0</td>\n",
       "      <td>-2.509242</td>\n",
       "      <td>14.052939</td>\n",
       "      <td>-29.370604</td>\n",
       "      <td>-12.152453</td>\n",
       "      <td>-4.714664</td>\n",
       "      <td>4.841346</td>\n",
       "      <td>81.301918</td>\n",
       "    </tr>\n",
       "    <tr>\n",
       "      <th>Wednesday</th>\n",
       "      <td>339.0</td>\n",
       "      <td>-2.301673</td>\n",
       "      <td>13.170313</td>\n",
       "      <td>-26.969996</td>\n",
       "      <td>-12.111935</td>\n",
       "      <td>-3.537755</td>\n",
       "      <td>4.989990</td>\n",
       "      <td>50.732904</td>\n",
       "    </tr>\n",
       "  </tbody>\n",
       "</table>\n",
       "</div>"
      ],
      "text/plain": [
       "             count      mean        std        min        25%       50%  \\\n",
       "day.of.week                                                               \n",
       "Friday       339.0  1.027497  13.779961 -26.145023  -7.865115 -1.291928   \n",
       "Monday       339.0  0.591678  14.380959 -25.189361  -9.687552 -1.830016   \n",
       "Saturday     339.0  2.043918  13.753488 -24.524510  -8.006579 -0.106017   \n",
       "Sunday       339.0  1.727012  13.174378 -21.818747  -8.949911  0.763759   \n",
       "Thursday     338.0 -0.580903  12.744600 -30.543901  -9.585159 -2.143645   \n",
       "Tuesday      339.0 -2.509242  14.052939 -29.370604 -12.152453 -4.714664   \n",
       "Wednesday    339.0 -2.301673  13.170313 -26.969996 -12.111935 -3.537755   \n",
       "\n",
       "                  75%        max  \n",
       "day.of.week                       \n",
       "Friday       8.349550  60.379980  \n",
       "Monday       7.977419  66.545547  \n",
       "Saturday     9.880302  70.679105  \n",
       "Sunday       9.264246  52.391966  \n",
       "Thursday     6.759554  50.080795  \n",
       "Tuesday      4.841346  81.301918  \n",
       "Wednesday    4.989990  50.732904  "
      ]
     },
     "execution_count": 58,
     "metadata": {},
     "output_type": "execute_result"
    }
   ],
   "source": [
    "ts.groupby('day.of.week').describe()['car_count_no_trend']"
   ]
  },
  {
   "cell_type": "code",
   "execution_count": 59,
   "metadata": {
    "collapsed": true
   },
   "outputs": [],
   "source": [
    "week_day_mean = ts.groupby('day.of.week').mean()['car_count_no_trend']"
   ]
  },
  {
   "cell_type": "code",
   "execution_count": 60,
   "metadata": {
    "collapsed": true
   },
   "outputs": [],
   "source": [
    "#Remove weekday mean\n",
    "week_day_mean = ts.groupby('day.of.week').mean()['car_count_no_trend']\n",
    "\n",
    "def week_season_func(row):\n",
    "    return row['car_count_no_trend']-week_day_mean[row['day.of.week']]\n",
    "\n",
    "ts['car_count_no_trend_day'] = ts.apply(week_season_func, axis=1)"
   ]
  },
  {
   "cell_type": "code",
   "execution_count": 61,
   "metadata": {},
   "outputs": [
    {
     "data": {
      "text/plain": [
       "<matplotlib.axes._subplots.AxesSubplot at 0x1c1d0ef6d8>"
      ]
     },
     "execution_count": 61,
     "metadata": {},
     "output_type": "execute_result"
    },
    {
     "data": {
      "image/png": "[encoded data removed]",
      "text/plain": [
       "<matplotlib.figure.Figure at 0x1c1ce0ffd0>"
      ]
     },
     "metadata": {},
     "output_type": "display_data"
    }
   ],
   "source": [
    "sns.boxplot(x='day.of.week', y='car_count_no_trend_day', data=ts)"
   ]
  },
  {
   "cell_type": "code",
   "execution_count": 62,
   "metadata": {},
   "outputs": [
    {
     "data": {
      "text/html": [
       "<div>\n",
       "<style>\n",
       "    .dataframe thead tr:only-child th {\n",
       "        text-align: right;\n",
       "    }\n",
       "\n",
       "    .dataframe thead th {\n",
       "        text-align: left;\n",
       "    }\n",
       "\n",
       "    .dataframe tbody tr th {\n",
       "        vertical-align: top;\n",
       "    }\n",
       "</style>\n",
       "<table border=\"1\" class=\"dataframe\">\n",
       "  <thead>\n",
       "    <tr style=\"text-align: right;\">\n",
       "      <th></th>\n",
       "      <th>count</th>\n",
       "      <th>mean</th>\n",
       "      <th>std</th>\n",
       "      <th>min</th>\n",
       "      <th>25%</th>\n",
       "      <th>50%</th>\n",
       "      <th>75%</th>\n",
       "      <th>max</th>\n",
       "    </tr>\n",
       "    <tr>\n",
       "      <th>day.of.week</th>\n",
       "      <th></th>\n",
       "      <th></th>\n",
       "      <th></th>\n",
       "      <th></th>\n",
       "      <th></th>\n",
       "      <th></th>\n",
       "      <th></th>\n",
       "      <th></th>\n",
       "    </tr>\n",
       "  </thead>\n",
       "  <tbody>\n",
       "    <tr>\n",
       "      <th>Friday</th>\n",
       "      <td>339.0</td>\n",
       "      <td>-5.449590e-16</td>\n",
       "      <td>13.779961</td>\n",
       "      <td>-27.172520</td>\n",
       "      <td>-8.892612</td>\n",
       "      <td>-2.319426</td>\n",
       "      <td>7.322052</td>\n",
       "      <td>59.352483</td>\n",
       "    </tr>\n",
       "    <tr>\n",
       "      <th>Monday</th>\n",
       "      <td>339.0</td>\n",
       "      <td>-3.196394e-16</td>\n",
       "      <td>14.380959</td>\n",
       "      <td>-25.781040</td>\n",
       "      <td>-10.279230</td>\n",
       "      <td>-2.421694</td>\n",
       "      <td>7.385741</td>\n",
       "      <td>65.953869</td>\n",
       "    </tr>\n",
       "    <tr>\n",
       "      <th>Saturday</th>\n",
       "      <td>339.0</td>\n",
       "      <td>-2.344896e-16</td>\n",
       "      <td>13.753488</td>\n",
       "      <td>-26.568428</td>\n",
       "      <td>-10.050496</td>\n",
       "      <td>-2.149934</td>\n",
       "      <td>7.836385</td>\n",
       "      <td>68.635187</td>\n",
       "    </tr>\n",
       "    <tr>\n",
       "      <th>Sunday</th>\n",
       "      <td>339.0</td>\n",
       "      <td>1.959757e-15</td>\n",
       "      <td>13.174378</td>\n",
       "      <td>-23.545760</td>\n",
       "      <td>-10.676923</td>\n",
       "      <td>-0.963253</td>\n",
       "      <td>7.537234</td>\n",
       "      <td>50.664953</td>\n",
       "    </tr>\n",
       "    <tr>\n",
       "      <th>Thursday</th>\n",
       "      <td>338.0</td>\n",
       "      <td>-1.248180e-16</td>\n",
       "      <td>12.744600</td>\n",
       "      <td>-29.962999</td>\n",
       "      <td>-9.004257</td>\n",
       "      <td>-1.562742</td>\n",
       "      <td>7.340456</td>\n",
       "      <td>50.661697</td>\n",
       "    </tr>\n",
       "    <tr>\n",
       "      <th>Tuesday</th>\n",
       "      <td>339.0</td>\n",
       "      <td>-3.463634e-15</td>\n",
       "      <td>14.052939</td>\n",
       "      <td>-26.861363</td>\n",
       "      <td>-9.643211</td>\n",
       "      <td>-2.205423</td>\n",
       "      <td>7.350588</td>\n",
       "      <td>83.811160</td>\n",
       "    </tr>\n",
       "    <tr>\n",
       "      <th>Wednesday</th>\n",
       "      <td>339.0</td>\n",
       "      <td>-3.274994e-16</td>\n",
       "      <td>13.170313</td>\n",
       "      <td>-24.668322</td>\n",
       "      <td>-9.810261</td>\n",
       "      <td>-1.236081</td>\n",
       "      <td>7.291663</td>\n",
       "      <td>53.034578</td>\n",
       "    </tr>\n",
       "  </tbody>\n",
       "</table>\n",
       "</div>"
      ],
      "text/plain": [
       "             count          mean        std        min        25%       50%  \\\n",
       "day.of.week                                                                   \n",
       "Friday       339.0 -5.449590e-16  13.779961 -27.172520  -8.892612 -2.319426   \n",
       "Monday       339.0 -3.196394e-16  14.380959 -25.781040 -10.279230 -2.421694   \n",
       "Saturday     339.0 -2.344896e-16  13.753488 -26.568428 -10.050496 -2.149934   \n",
       "Sunday       339.0  1.959757e-15  13.174378 -23.545760 -10.676923 -0.963253   \n",
       "Thursday     338.0 -1.248180e-16  12.744600 -29.962999  -9.004257 -1.562742   \n",
       "Tuesday      339.0 -3.463634e-15  14.052939 -26.861363  -9.643211 -2.205423   \n",
       "Wednesday    339.0 -3.274994e-16  13.170313 -24.668322  -9.810261 -1.236081   \n",
       "\n",
       "                  75%        max  \n",
       "day.of.week                       \n",
       "Friday       7.322052  59.352483  \n",
       "Monday       7.385741  65.953869  \n",
       "Saturday     7.836385  68.635187  \n",
       "Sunday       7.537234  50.664953  \n",
       "Thursday     7.340456  50.661697  \n",
       "Tuesday      7.350588  83.811160  \n",
       "Wednesday    7.291663  53.034578  "
      ]
     },
     "execution_count": 62,
     "metadata": {},
     "output_type": "execute_result"
    }
   ],
   "source": [
    "ts.groupby('day.of.week').describe()['car_count_no_trend_day']"
   ]
  },
  {
   "cell_type": "markdown",
   "metadata": {},
   "source": [
    "### Observation\n",
    "- The weekly effect seems to be removed. \n",
    "\n",
    "Note: I first tried a sinusiodal function with weekly period but it did not do very well in removing the weekly effect. "
   ]
  },
  {
   "cell_type": "markdown",
   "metadata": {},
   "source": [
    "## Month effect"
   ]
  },
  {
   "cell_type": "code",
   "execution_count": 63,
   "metadata": {},
   "outputs": [
    {
     "data": {
      "text/html": [
       "<div>\n",
       "<style>\n",
       "    .dataframe thead tr:only-child th {\n",
       "        text-align: right;\n",
       "    }\n",
       "\n",
       "    .dataframe thead th {\n",
       "        text-align: left;\n",
       "    }\n",
       "\n",
       "    .dataframe tbody tr th {\n",
       "        vertical-align: top;\n",
       "    }\n",
       "</style>\n",
       "<table border=\"1\" class=\"dataframe\">\n",
       "  <thead>\n",
       "    <tr style=\"text-align: right;\">\n",
       "      <th></th>\n",
       "      <th>date</th>\n",
       "      <th>day.of.week</th>\n",
       "      <th>car.count</th>\n",
       "      <th>weather</th>\n",
       "      <th>cloud.indicator</th>\n",
       "      <th>year</th>\n",
       "      <th>month</th>\n",
       "      <th>car_count_no_trend</th>\n",
       "      <th>car_count_no_trend_day</th>\n",
       "    </tr>\n",
       "  </thead>\n",
       "  <tbody>\n",
       "    <tr>\n",
       "      <th>0</th>\n",
       "      <td>2010-01-01</td>\n",
       "      <td>Friday</td>\n",
       "      <td>101.0</td>\n",
       "      <td>0.1</td>\n",
       "      <td>clear</td>\n",
       "      <td>2010</td>\n",
       "      <td>1</td>\n",
       "      <td>0.903291</td>\n",
       "      <td>-0.124206</td>\n",
       "    </tr>\n",
       "    <tr>\n",
       "      <th>1</th>\n",
       "      <td>2010-01-02</td>\n",
       "      <td>Saturday</td>\n",
       "      <td>107.0</td>\n",
       "      <td>0.2</td>\n",
       "      <td>cloudy</td>\n",
       "      <td>2010</td>\n",
       "      <td>1</td>\n",
       "      <td>6.706722</td>\n",
       "      <td>4.662804</td>\n",
       "    </tr>\n",
       "    <tr>\n",
       "      <th>2</th>\n",
       "      <td>2010-01-03</td>\n",
       "      <td>Sunday</td>\n",
       "      <td>113.0</td>\n",
       "      <td>0.4</td>\n",
       "      <td>clear</td>\n",
       "      <td>2010</td>\n",
       "      <td>1</td>\n",
       "      <td>12.510474</td>\n",
       "      <td>10.783462</td>\n",
       "    </tr>\n",
       "    <tr>\n",
       "      <th>3</th>\n",
       "      <td>2010-01-04</td>\n",
       "      <td>Monday</td>\n",
       "      <td>118.5</td>\n",
       "      <td>0.6</td>\n",
       "      <td>cloudy</td>\n",
       "      <td>2010</td>\n",
       "      <td>1</td>\n",
       "      <td>17.814548</td>\n",
       "      <td>17.222870</td>\n",
       "    </tr>\n",
       "    <tr>\n",
       "      <th>4</th>\n",
       "      <td>2010-01-05</td>\n",
       "      <td>Tuesday</td>\n",
       "      <td>124.0</td>\n",
       "      <td>0.1</td>\n",
       "      <td>clear</td>\n",
       "      <td>2010</td>\n",
       "      <td>1</td>\n",
       "      <td>23.118943</td>\n",
       "      <td>25.628185</td>\n",
       "    </tr>\n",
       "  </tbody>\n",
       "</table>\n",
       "</div>"
      ],
      "text/plain": [
       "        date day.of.week  car.count  weather cloud.indicator  year  month  \\\n",
       "0 2010-01-01      Friday      101.0      0.1           clear  2010      1   \n",
       "1 2010-01-02    Saturday      107.0      0.2          cloudy  2010      1   \n",
       "2 2010-01-03      Sunday      113.0      0.4           clear  2010      1   \n",
       "3 2010-01-04      Monday      118.5      0.6          cloudy  2010      1   \n",
       "4 2010-01-05     Tuesday      124.0      0.1           clear  2010      1   \n",
       "\n",
       "   car_count_no_trend  car_count_no_trend_day  \n",
       "0            0.903291               -0.124206  \n",
       "1            6.706722                4.662804  \n",
       "2           12.510474               10.783462  \n",
       "3           17.814548               17.222870  \n",
       "4           23.118943               25.628185  "
      ]
     },
     "execution_count": 63,
     "metadata": {},
     "output_type": "execute_result"
    }
   ],
   "source": [
    "ts.head()"
   ]
  },
  {
   "cell_type": "code",
   "execution_count": 64,
   "metadata": {},
   "outputs": [
    {
     "data": {
      "text/html": [
       "<div>\n",
       "<style>\n",
       "    .dataframe thead tr:only-child th {\n",
       "        text-align: right;\n",
       "    }\n",
       "\n",
       "    .dataframe thead th {\n",
       "        text-align: left;\n",
       "    }\n",
       "\n",
       "    .dataframe tbody tr th {\n",
       "        vertical-align: top;\n",
       "    }\n",
       "</style>\n",
       "<table border=\"1\" class=\"dataframe\">\n",
       "  <thead>\n",
       "    <tr style=\"text-align: right;\">\n",
       "      <th></th>\n",
       "      <th>count</th>\n",
       "      <th>mean</th>\n",
       "      <th>std</th>\n",
       "      <th>min</th>\n",
       "      <th>25%</th>\n",
       "      <th>50%</th>\n",
       "      <th>75%</th>\n",
       "      <th>max</th>\n",
       "    </tr>\n",
       "    <tr>\n",
       "      <th>month</th>\n",
       "      <th></th>\n",
       "      <th></th>\n",
       "      <th></th>\n",
       "      <th></th>\n",
       "      <th></th>\n",
       "      <th></th>\n",
       "      <th></th>\n",
       "      <th></th>\n",
       "    </tr>\n",
       "  </thead>\n",
       "  <tbody>\n",
       "    <tr>\n",
       "      <th>1</th>\n",
       "      <td>217.0</td>\n",
       "      <td>-2.815032</td>\n",
       "      <td>13.618542</td>\n",
       "      <td>-27.172520</td>\n",
       "      <td>-12.426325</td>\n",
       "      <td>-6.119540</td>\n",
       "      <td>5.375284</td>\n",
       "      <td>46.177763</td>\n",
       "    </tr>\n",
       "    <tr>\n",
       "      <th>2</th>\n",
       "      <td>198.0</td>\n",
       "      <td>-0.975749</td>\n",
       "      <td>12.445392</td>\n",
       "      <td>-24.214640</td>\n",
       "      <td>-10.016144</td>\n",
       "      <td>-3.957090</td>\n",
       "      <td>6.143212</td>\n",
       "      <td>40.045525</td>\n",
       "    </tr>\n",
       "    <tr>\n",
       "      <th>3</th>\n",
       "      <td>217.0</td>\n",
       "      <td>5.024527</td>\n",
       "      <td>16.965949</td>\n",
       "      <td>-23.872170</td>\n",
       "      <td>-7.319513</td>\n",
       "      <td>2.794829</td>\n",
       "      <td>13.948362</td>\n",
       "      <td>83.811160</td>\n",
       "    </tr>\n",
       "    <tr>\n",
       "      <th>4</th>\n",
       "      <td>210.0</td>\n",
       "      <td>-1.885498</td>\n",
       "      <td>12.123545</td>\n",
       "      <td>-25.842854</td>\n",
       "      <td>-10.415480</td>\n",
       "      <td>-3.411893</td>\n",
       "      <td>5.077445</td>\n",
       "      <td>43.524834</td>\n",
       "    </tr>\n",
       "    <tr>\n",
       "      <th>5</th>\n",
       "      <td>217.0</td>\n",
       "      <td>-0.704176</td>\n",
       "      <td>12.114099</td>\n",
       "      <td>-26.113646</td>\n",
       "      <td>-9.144234</td>\n",
       "      <td>-2.091323</td>\n",
       "      <td>5.944960</td>\n",
       "      <td>32.867401</td>\n",
       "    </tr>\n",
       "    <tr>\n",
       "      <th>6</th>\n",
       "      <td>209.0</td>\n",
       "      <td>1.732474</td>\n",
       "      <td>13.049800</td>\n",
       "      <td>-26.568428</td>\n",
       "      <td>-7.740455</td>\n",
       "      <td>-0.102179</td>\n",
       "      <td>10.111872</td>\n",
       "      <td>40.830639</td>\n",
       "    </tr>\n",
       "    <tr>\n",
       "      <th>7</th>\n",
       "      <td>186.0</td>\n",
       "      <td>-3.411254</td>\n",
       "      <td>13.164203</td>\n",
       "      <td>-25.781040</td>\n",
       "      <td>-13.377981</td>\n",
       "      <td>-5.063703</td>\n",
       "      <td>3.382273</td>\n",
       "      <td>45.725839</td>\n",
       "    </tr>\n",
       "    <tr>\n",
       "      <th>8</th>\n",
       "      <td>186.0</td>\n",
       "      <td>0.823024</td>\n",
       "      <td>12.561788</td>\n",
       "      <td>-23.424354</td>\n",
       "      <td>-6.933403</td>\n",
       "      <td>-0.381034</td>\n",
       "      <td>8.601114</td>\n",
       "      <td>50.402304</td>\n",
       "    </tr>\n",
       "    <tr>\n",
       "      <th>9</th>\n",
       "      <td>180.0</td>\n",
       "      <td>4.194198</td>\n",
       "      <td>11.678770</td>\n",
       "      <td>-24.307543</td>\n",
       "      <td>-2.926254</td>\n",
       "      <td>4.114109</td>\n",
       "      <td>11.042892</td>\n",
       "      <td>50.023656</td>\n",
       "    </tr>\n",
       "    <tr>\n",
       "      <th>10</th>\n",
       "      <td>186.0</td>\n",
       "      <td>-2.380588</td>\n",
       "      <td>14.082558</td>\n",
       "      <td>-29.962999</td>\n",
       "      <td>-11.941586</td>\n",
       "      <td>-4.357331</td>\n",
       "      <td>5.938170</td>\n",
       "      <td>64.211234</td>\n",
       "    </tr>\n",
       "    <tr>\n",
       "      <th>11</th>\n",
       "      <td>180.0</td>\n",
       "      <td>-2.027042</td>\n",
       "      <td>12.936593</td>\n",
       "      <td>-26.806044</td>\n",
       "      <td>-11.058757</td>\n",
       "      <td>-3.608781</td>\n",
       "      <td>3.960709</td>\n",
       "      <td>53.913664</td>\n",
       "    </tr>\n",
       "    <tr>\n",
       "      <th>12</th>\n",
       "      <td>186.0</td>\n",
       "      <td>2.336149</td>\n",
       "      <td>14.097666</td>\n",
       "      <td>-25.732283</td>\n",
       "      <td>-7.620727</td>\n",
       "      <td>0.168134</td>\n",
       "      <td>9.680775</td>\n",
       "      <td>51.871639</td>\n",
       "    </tr>\n",
       "  </tbody>\n",
       "</table>\n",
       "</div>"
      ],
      "text/plain": [
       "       count      mean        std        min        25%       50%        75%  \\\n",
       "month                                                                          \n",
       "1      217.0 -2.815032  13.618542 -27.172520 -12.426325 -6.119540   5.375284   \n",
       "2      198.0 -0.975749  12.445392 -24.214640 -10.016144 -3.957090   6.143212   \n",
       "3      217.0  5.024527  16.965949 -23.872170  -7.319513  2.794829  13.948362   \n",
       "4      210.0 -1.885498  12.123545 -25.842854 -10.415480 -3.411893   5.077445   \n",
       "5      217.0 -0.704176  12.114099 -26.113646  -9.144234 -2.091323   5.944960   \n",
       "6      209.0  1.732474  13.049800 -26.568428  -7.740455 -0.102179  10.111872   \n",
       "7      186.0 -3.411254  13.164203 -25.781040 -13.377981 -5.063703   3.382273   \n",
       "8      186.0  0.823024  12.561788 -23.424354  -6.933403 -0.381034   8.601114   \n",
       "9      180.0  4.194198  11.678770 -24.307543  -2.926254  4.114109  11.042892   \n",
       "10     186.0 -2.380588  14.082558 -29.962999 -11.941586 -4.357331   5.938170   \n",
       "11     180.0 -2.027042  12.936593 -26.806044 -11.058757 -3.608781   3.960709   \n",
       "12     186.0  2.336149  14.097666 -25.732283  -7.620727  0.168134   9.680775   \n",
       "\n",
       "             max  \n",
       "month             \n",
       "1      46.177763  \n",
       "2      40.045525  \n",
       "3      83.811160  \n",
       "4      43.524834  \n",
       "5      32.867401  \n",
       "6      40.830639  \n",
       "7      45.725839  \n",
       "8      50.402304  \n",
       "9      50.023656  \n",
       "10     64.211234  \n",
       "11     53.913664  \n",
       "12     51.871639  "
      ]
     },
     "execution_count": 64,
     "metadata": {},
     "output_type": "execute_result"
    }
   ],
   "source": [
    "ts.groupby('month').describe()['car_count_no_trend_day']"
   ]
  },
  {
   "cell_type": "code",
   "execution_count": 65,
   "metadata": {},
   "outputs": [
    {
     "data": {
      "text/plain": [
       "<matplotlib.axes._subplots.AxesSubplot at 0x1c1d929ba8>"
      ]
     },
     "execution_count": 65,
     "metadata": {},
     "output_type": "execute_result"
    },
    {
     "data": {
      "image/png": "[encoded data removed]",
      "text/plain": [
       "<matplotlib.figure.Figure at 0x1c1d924cc0>"
      ]
     },
     "metadata": {},
     "output_type": "display_data"
    }
   ],
   "source": [
    "sns.boxplot(x='month', y='car_count_no_trend_day', data=ts)"
   ]
  },
  {
   "cell_type": "code",
   "execution_count": 66,
   "metadata": {
    "collapsed": true
   },
   "outputs": [],
   "source": [
    "month_mean = ts.groupby('month').mean()['car_count_no_trend_day']\n",
    "\n",
    "def month_season_func(row):\n",
    "    return row['car_count_no_trend_day']-month_mean[row['month']]\n",
    "\n",
    "ts['car_count_no_trend_day_month'] = ts.apply(month_season_func, axis=1)"
   ]
  },
  {
   "cell_type": "code",
   "execution_count": 67,
   "metadata": {},
   "outputs": [
    {
     "data": {
      "text/html": [
       "<div>\n",
       "<style>\n",
       "    .dataframe thead tr:only-child th {\n",
       "        text-align: right;\n",
       "    }\n",
       "\n",
       "    .dataframe thead th {\n",
       "        text-align: left;\n",
       "    }\n",
       "\n",
       "    .dataframe tbody tr th {\n",
       "        vertical-align: top;\n",
       "    }\n",
       "</style>\n",
       "<table border=\"1\" class=\"dataframe\">\n",
       "  <thead>\n",
       "    <tr style=\"text-align: right;\">\n",
       "      <th></th>\n",
       "      <th>count</th>\n",
       "      <th>mean</th>\n",
       "      <th>std</th>\n",
       "      <th>min</th>\n",
       "      <th>25%</th>\n",
       "      <th>50%</th>\n",
       "      <th>75%</th>\n",
       "      <th>max</th>\n",
       "    </tr>\n",
       "    <tr>\n",
       "      <th>month</th>\n",
       "      <th></th>\n",
       "      <th></th>\n",
       "      <th></th>\n",
       "      <th></th>\n",
       "      <th></th>\n",
       "      <th></th>\n",
       "      <th></th>\n",
       "      <th></th>\n",
       "    </tr>\n",
       "  </thead>\n",
       "  <tbody>\n",
       "    <tr>\n",
       "      <th>1</th>\n",
       "      <td>217.0</td>\n",
       "      <td>-8.677135e-16</td>\n",
       "      <td>13.618542</td>\n",
       "      <td>-24.357488</td>\n",
       "      <td>-9.611293</td>\n",
       "      <td>-3.304509</td>\n",
       "      <td>8.190315</td>\n",
       "      <td>48.992795</td>\n",
       "    </tr>\n",
       "    <tr>\n",
       "      <th>2</th>\n",
       "      <td>198.0</td>\n",
       "      <td>1.345725e-17</td>\n",
       "      <td>12.445392</td>\n",
       "      <td>-23.238891</td>\n",
       "      <td>-9.040396</td>\n",
       "      <td>-2.981341</td>\n",
       "      <td>7.118960</td>\n",
       "      <td>41.021273</td>\n",
       "    </tr>\n",
       "    <tr>\n",
       "      <th>3</th>\n",
       "      <td>217.0</td>\n",
       "      <td>-9.413873e-17</td>\n",
       "      <td>16.965949</td>\n",
       "      <td>-28.896697</td>\n",
       "      <td>-12.344040</td>\n",
       "      <td>-2.229698</td>\n",
       "      <td>8.923835</td>\n",
       "      <td>78.786633</td>\n",
       "    </tr>\n",
       "    <tr>\n",
       "      <th>4</th>\n",
       "      <td>210.0</td>\n",
       "      <td>-1.015061e-15</td>\n",
       "      <td>12.123545</td>\n",
       "      <td>-23.957357</td>\n",
       "      <td>-8.529982</td>\n",
       "      <td>-1.526395</td>\n",
       "      <td>6.962943</td>\n",
       "      <td>45.410331</td>\n",
       "    </tr>\n",
       "    <tr>\n",
       "      <th>5</th>\n",
       "      <td>217.0</td>\n",
       "      <td>-2.455793e-16</td>\n",
       "      <td>12.114099</td>\n",
       "      <td>-25.409470</td>\n",
       "      <td>-8.440058</td>\n",
       "      <td>-1.387147</td>\n",
       "      <td>6.649136</td>\n",
       "      <td>33.571576</td>\n",
       "    </tr>\n",
       "    <tr>\n",
       "      <th>6</th>\n",
       "      <td>209.0</td>\n",
       "      <td>2.490299e-15</td>\n",
       "      <td>13.049800</td>\n",
       "      <td>-28.300902</td>\n",
       "      <td>-9.472929</td>\n",
       "      <td>-1.834653</td>\n",
       "      <td>8.379398</td>\n",
       "      <td>39.098165</td>\n",
       "    </tr>\n",
       "    <tr>\n",
       "      <th>7</th>\n",
       "      <td>186.0</td>\n",
       "      <td>-3.438110e-16</td>\n",
       "      <td>13.164203</td>\n",
       "      <td>-22.369785</td>\n",
       "      <td>-9.966726</td>\n",
       "      <td>-1.652448</td>\n",
       "      <td>6.793528</td>\n",
       "      <td>49.137093</td>\n",
       "    </tr>\n",
       "    <tr>\n",
       "      <th>8</th>\n",
       "      <td>186.0</td>\n",
       "      <td>-6.207699e-17</td>\n",
       "      <td>12.561788</td>\n",
       "      <td>-24.247378</td>\n",
       "      <td>-7.756427</td>\n",
       "      <td>-1.204058</td>\n",
       "      <td>7.778091</td>\n",
       "      <td>49.579281</td>\n",
       "    </tr>\n",
       "    <tr>\n",
       "      <th>9</th>\n",
       "      <td>180.0</td>\n",
       "      <td>-1.855306e-15</td>\n",
       "      <td>11.678770</td>\n",
       "      <td>-28.501741</td>\n",
       "      <td>-7.120452</td>\n",
       "      <td>-0.080088</td>\n",
       "      <td>6.848694</td>\n",
       "      <td>45.829459</td>\n",
       "    </tr>\n",
       "    <tr>\n",
       "      <th>10</th>\n",
       "      <td>186.0</td>\n",
       "      <td>2.024665e-15</td>\n",
       "      <td>14.082558</td>\n",
       "      <td>-27.582411</td>\n",
       "      <td>-9.560998</td>\n",
       "      <td>-1.976742</td>\n",
       "      <td>8.318758</td>\n",
       "      <td>66.591822</td>\n",
       "    </tr>\n",
       "    <tr>\n",
       "      <th>11</th>\n",
       "      <td>180.0</td>\n",
       "      <td>6.500973e-16</td>\n",
       "      <td>12.936593</td>\n",
       "      <td>-24.779002</td>\n",
       "      <td>-9.031715</td>\n",
       "      <td>-1.581739</td>\n",
       "      <td>5.987751</td>\n",
       "      <td>55.940706</td>\n",
       "    </tr>\n",
       "    <tr>\n",
       "      <th>12</th>\n",
       "      <td>186.0</td>\n",
       "      <td>8.213263e-16</td>\n",
       "      <td>14.097666</td>\n",
       "      <td>-28.068431</td>\n",
       "      <td>-9.956876</td>\n",
       "      <td>-2.168015</td>\n",
       "      <td>7.344626</td>\n",
       "      <td>49.535490</td>\n",
       "    </tr>\n",
       "  </tbody>\n",
       "</table>\n",
       "</div>"
      ],
      "text/plain": [
       "       count          mean        std        min        25%       50%  \\\n",
       "month                                                                   \n",
       "1      217.0 -8.677135e-16  13.618542 -24.357488  -9.611293 -3.304509   \n",
       "2      198.0  1.345725e-17  12.445392 -23.238891  -9.040396 -2.981341   \n",
       "3      217.0 -9.413873e-17  16.965949 -28.896697 -12.344040 -2.229698   \n",
       "4      210.0 -1.015061e-15  12.123545 -23.957357  -8.529982 -1.526395   \n",
       "5      217.0 -2.455793e-16  12.114099 -25.409470  -8.440058 -1.387147   \n",
       "6      209.0  2.490299e-15  13.049800 -28.300902  -9.472929 -1.834653   \n",
       "7      186.0 -3.438110e-16  13.164203 -22.369785  -9.966726 -1.652448   \n",
       "8      186.0 -6.207699e-17  12.561788 -24.247378  -7.756427 -1.204058   \n",
       "9      180.0 -1.855306e-15  11.678770 -28.501741  -7.120452 -0.080088   \n",
       "10     186.0  2.024665e-15  14.082558 -27.582411  -9.560998 -1.976742   \n",
       "11     180.0  6.500973e-16  12.936593 -24.779002  -9.031715 -1.581739   \n",
       "12     186.0  8.213263e-16  14.097666 -28.068431  -9.956876 -2.168015   \n",
       "\n",
       "            75%        max  \n",
       "month                       \n",
       "1      8.190315  48.992795  \n",
       "2      7.118960  41.021273  \n",
       "3      8.923835  78.786633  \n",
       "4      6.962943  45.410331  \n",
       "5      6.649136  33.571576  \n",
       "6      8.379398  39.098165  \n",
       "7      6.793528  49.137093  \n",
       "8      7.778091  49.579281  \n",
       "9      6.848694  45.829459  \n",
       "10     8.318758  66.591822  \n",
       "11     5.987751  55.940706  \n",
       "12     7.344626  49.535490  "
      ]
     },
     "execution_count": 67,
     "metadata": {},
     "output_type": "execute_result"
    }
   ],
   "source": [
    "ts.groupby('month').describe()['car_count_no_trend_day_month']"
   ]
  },
  {
   "cell_type": "code",
   "execution_count": 68,
   "metadata": {},
   "outputs": [
    {
     "data": {
      "text/plain": [
       "<matplotlib.axes._subplots.AxesSubplot at 0x1c1e8be7b8>"
      ]
     },
     "execution_count": 68,
     "metadata": {},
     "output_type": "execute_result"
    },
    {
     "data": {
      "image/png": "[encoded data removed]",
      "text/plain": [
       "<matplotlib.figure.Figure at 0x1c1ee0eb00>"
      ]
     },
     "metadata": {},
     "output_type": "display_data"
    }
   ],
   "source": [
    "sns.boxplot(x='month', y='car_count_no_trend_day_month', data=ts)"
   ]
  },
  {
   "cell_type": "markdown",
   "metadata": {},
   "source": [
    "### Observations:\n",
    "- The monthly effect seem to have been succesfully removed. "
   ]
  },
  {
   "cell_type": "code",
   "execution_count": 69,
   "metadata": {
    "collapsed": true
   },
   "outputs": [],
   "source": [
    "ts_stat = pd.Series(data=ts['car_count_no_trend_day_month'].values, index=ts['date'])"
   ]
  },
  {
   "cell_type": "code",
   "execution_count": 70,
   "metadata": {},
   "outputs": [
    {
     "data": {
      "text/plain": [
       "[<matplotlib.lines.Line2D at 0x1c1efb9470>]"
      ]
     },
     "execution_count": 70,
     "metadata": {},
     "output_type": "execute_result"
    },
    {
     "data": {
      "image/png": "[encoded data removed]",
      "text/plain": [
       "<matplotlib.figure.Figure at 0x1c1ef652b0>"
      ]
     },
     "metadata": {},
     "output_type": "display_data"
    }
   ],
   "source": [
    "plt.figure()\n",
    "plt.plot((ts_stat),'o')"
   ]
  },
  {
   "cell_type": "code",
   "execution_count": 71,
   "metadata": {},
   "outputs": [
    {
     "data": {
      "text/plain": [
       "<matplotlib.axes._subplots.AxesSubplot at 0x1c1efa3748>"
      ]
     },
     "execution_count": 71,
     "metadata": {},
     "output_type": "execute_result"
    },
    {
     "data": {
      "image/png": "[encoded data removed]",
      "text/plain": [
       "<matplotlib.figure.Figure at 0x1c1efc1e10>"
      ]
     },
     "metadata": {},
     "output_type": "display_data"
    }
   ],
   "source": [
    "sns.distplot(ts_stat)"
   ]
  },
  {
   "cell_type": "markdown",
   "metadata": {},
   "source": [
    "### Plot observation \n",
    "- Still some effects from the outliers but I will continue with what I have. "
   ]
  },
  {
   "cell_type": "markdown",
   "metadata": {},
   "source": [
    "### Stationary test"
   ]
  },
  {
   "cell_type": "code",
   "execution_count": 72,
   "metadata": {},
   "outputs": [
    {
     "name": "stdout",
     "output_type": "stream",
     "text": [
      "ADF Statistic: -28.818048\n",
      "p-value: 0.000000\n",
      "Critical Values:\n",
      "\t1%: -3.433\n",
      "\t5%: -2.863\n",
      "\t10%: -2.567\n"
     ]
    }
   ],
   "source": [
    "result = adfuller(ts_stat)\n",
    "print('ADF Statistic: %f' % result[0])\n",
    "print('p-value: %f' % result[1])\n",
    "print('Critical Values:')\n",
    "for key, value in result[4].items():\n",
    "    print('\\t%s: %.3f' % (key, value))"
   ]
  },
  {
   "cell_type": "markdown",
   "metadata": {},
   "source": [
    "### observation:\n",
    "- The null hypothesis is rejected. The data appears to be stationary according to the test above. "
   ]
  },
  {
   "cell_type": "markdown",
   "metadata": {},
   "source": [
    "# Explore which forecast model should be used"
   ]
  },
  {
   "cell_type": "code",
   "execution_count": 73,
   "metadata": {
    "collapsed": true
   },
   "outputs": [],
   "source": [
    "from statsmodels.graphics.tsaplots import plot_acf, plot_pacf"
   ]
  },
  {
   "cell_type": "code",
   "execution_count": 74,
   "metadata": {},
   "outputs": [
    {
     "data": {
      "image/png": "[encoded data removed]",
      "text/plain": [
       "<matplotlib.figure.Figure at 0x1c1f11eac8>"
      ]
     },
     "metadata": {},
     "output_type": "display_data"
    }
   ],
   "source": [
    "fig, axes = plt.subplots(nrows=1, ncols=2, figsize=(12,3))\n",
    "\n",
    "plot_acf(ts_stat, lags=365, ax=axes[0].axes);\n",
    "plot_pacf(ts_stat, lags=365, ax=axes[1].axes);"
   ]
  },
  {
   "cell_type": "code",
   "execution_count": 75,
   "metadata": {},
   "outputs": [
    {
     "data": {
      "image/png": "[encoded data removed]",
      "text/plain": [
       "<matplotlib.figure.Figure at 0x1c1f30c5c0>"
      ]
     },
     "metadata": {},
     "output_type": "display_data"
    }
   ],
   "source": [
    "fig, axes = plt.subplots(nrows=1, ncols=2, figsize=(12,3))\n",
    "\n",
    "plot_acf(ts_stat, lags=10, ax=axes[0].axes);\n",
    "plot_pacf(ts_stat, lags=10, ax=axes[1].axes);"
   ]
  },
  {
   "cell_type": "markdown",
   "metadata": {},
   "source": [
    "### Plot observation:\n",
    "- The PACF curve has a cutoff after lag 1 which means this is most likely a AR(1) process. \n",
    "- The ACF shows smooth transition which usually indicates an AR process with no MA components. \n",
    "\n",
    "Use a ARIMA process"
   ]
  },
  {
   "cell_type": "code",
   "execution_count": 76,
   "metadata": {
    "collapsed": true
   },
   "outputs": [],
   "source": [
    "from statsmodels.tsa.arima_model import ARIMA"
   ]
  },
  {
   "cell_type": "markdown",
   "metadata": {},
   "source": [
    "# Forecast"
   ]
  },
  {
   "cell_type": "markdown",
   "metadata": {},
   "source": [
    "### Fit a AR(1) process"
   ]
  },
  {
   "cell_type": "code",
   "execution_count": 77,
   "metadata": {},
   "outputs": [
    {
     "name": "stdout",
     "output_type": "stream",
     "text": [
      "                              ARMA Model Results                              \n",
      "==============================================================================\n",
      "Dep. Variable:                      y   No. Observations:                 2372\n",
      "Model:                     ARMA(1, 0)   Log Likelihood               -9192.540\n",
      "Method:                       css-mle   S.D. of innovations             11.663\n",
      "Date:                Mon, 30 Apr 2018   AIC                          18391.080\n",
      "Time:                        15:30:48   BIC                          18408.394\n",
      "Sample:                    01-01-2010   HQIC                         18397.382\n",
      "                         - 06-29-2016                                         \n",
      "==============================================================================\n",
      "                 coef    std err          z      P>|z|      [0.025      0.975]\n",
      "------------------------------------------------------------------------------\n",
      "const         -0.0021      0.461     -0.005      0.996      -0.905       0.901\n",
      "ar.L1.y        0.4806      0.018     26.701      0.000       0.445       0.516\n",
      "                                    Roots                                    \n",
      "=============================================================================\n",
      "                 Real           Imaginary           Modulus         Frequency\n",
      "-----------------------------------------------------------------------------\n",
      "AR.1            2.0807           +0.0000j            2.0807            0.0000\n",
      "-----------------------------------------------------------------------------\n",
      "The residual errors have:\n",
      "count    2372.000000\n",
      "mean       -0.000539\n",
      "std        11.665758\n",
      "min       -59.361626\n",
      "25%        -6.910055\n",
      "50%        -0.918841\n",
      "75%         5.929590\n",
      "max        59.748684\n",
      "dtype: float64\n"
     ]
    },
    {
     "data": {
      "image/png": "[encoded data removed]",
      "text/plain": [
       "<matplotlib.figure.Figure at 0x1c1e79d470>"
      ]
     },
     "metadata": {},
     "output_type": "display_data"
    }
   ],
   "source": [
    "model = ARIMA(ts_stat, order=(1,0,0))\n",
    "model_fit = model.fit(disp=0)\n",
    "print(model_fit.summary())\n",
    "sns.distplot(model_fit.resid)\n",
    "print(\"The residual errors have:\")\n",
    "print(model_fit.resid.describe())"
   ]
  },
  {
   "cell_type": "markdown",
   "metadata": {},
   "source": [
    "### Observation\n",
    "- When playing around with p and q in the ARMA process I do not decrease neither AIC nor BIC which indicates that \n",
    "AR(1) is for now my first choice. Could have done a grid search too but did not feel necessary. \n",
    "- The residuals seem to be Gaussian distributed with zero mean which is what I want. "
   ]
  },
  {
   "cell_type": "code",
   "execution_count": 78,
   "metadata": {},
   "outputs": [
    {
     "data": {
      "text/plain": [
       "[<matplotlib.lines.Line2D at 0x1c1f6749e8>]"
      ]
     },
     "execution_count": 78,
     "metadata": {},
     "output_type": "execute_result"
    },
    {
     "data": {
      "image/png": "[encoded data removed]",
      "text/plain": [
       "<matplotlib.figure.Figure at 0x1c1f29bf28>"
      ]
     },
     "metadata": {},
     "output_type": "display_data"
    }
   ],
   "source": [
    "plt.figure(figsize=(12,3))\n",
    "plt.plot(ts_stat[-100:])\n",
    "plt.plot(model_fit.fittedvalues[-100:])"
   ]
  },
  {
   "cell_type": "markdown",
   "metadata": {},
   "source": [
    "### Forecasting month of july 2016"
   ]
  },
  {
   "cell_type": "code",
   "execution_count": 79,
   "metadata": {
    "collapsed": true
   },
   "outputs": [],
   "source": [
    "#Add extra day since I removed the last cloudy day from the data\n",
    "forecast,stderr,conf_int = model_fit.forecast(steps = 32) "
   ]
  },
  {
   "cell_type": "code",
   "execution_count": 80,
   "metadata": {},
   "outputs": [
    {
     "data": {
      "text/plain": [
       "Timestamp('2016-06-29 00:00:00')"
      ]
     },
     "execution_count": 80,
     "metadata": {},
     "output_type": "execute_result"
    }
   ],
   "source": [
    "ts['date'].iloc[-1] #last day to do forecast from"
   ]
  },
  {
   "cell_type": "code",
   "execution_count": 81,
   "metadata": {
    "collapsed": true
   },
   "outputs": [],
   "source": [
    "date_forecast = pd.date_range('2016-06-30', periods=32)"
   ]
  },
  {
   "cell_type": "code",
   "execution_count": 82,
   "metadata": {
    "collapsed": true
   },
   "outputs": [],
   "source": [
    "forecast = pd.Series(data=forecast, index=date_forecast)\n",
    "stderr = pd.Series(data=stderr, index=date_forecast)"
   ]
  },
  {
   "cell_type": "code",
   "execution_count": 83,
   "metadata": {
    "scrolled": true
   },
   "outputs": [
    {
     "data": {
      "text/plain": [
       "<matplotlib.axes._subplots.AxesSubplot at 0x117d24588>"
      ]
     },
     "execution_count": 83,
     "metadata": {},
     "output_type": "execute_result"
    },
    {
     "data": {
      "image/png": "[encoded data removed]",
      "text/plain": [
       "<matplotlib.figure.Figure at 0x1c1f221a20>"
      ]
     },
     "metadata": {},
     "output_type": "display_data"
    }
   ],
   "source": [
    "#Orange is forecast, blue 95% confidence interval\n",
    "plt.figure(figsize=(12,3))\n",
    "forecast.plot()\n",
    "plt.fill_between(x=forecast.index, y1=forecast.values-1.96*stderr.values, y2=forecast.values+1.96*stderr.values) \n",
    "forecast.plot()"
   ]
  },
  {
   "cell_type": "markdown",
   "metadata": {},
   "source": [
    "## Add the month and day effect"
   ]
  },
  {
   "cell_type": "code",
   "execution_count": 84,
   "metadata": {},
   "outputs": [
    {
     "data": {
      "text/plain": [
       "DatetimeIndex(['2016-06-30', '2016-07-01', '2016-07-02', '2016-07-03',\n",
       "               '2016-07-04', '2016-07-05', '2016-07-06', '2016-07-07',\n",
       "               '2016-07-08', '2016-07-09', '2016-07-10', '2016-07-11',\n",
       "               '2016-07-12', '2016-07-13', '2016-07-14', '2016-07-15',\n",
       "               '2016-07-16', '2016-07-17', '2016-07-18', '2016-07-19',\n",
       "               '2016-07-20', '2016-07-21', '2016-07-22', '2016-07-23',\n",
       "               '2016-07-24', '2016-07-25', '2016-07-26', '2016-07-27',\n",
       "               '2016-07-28', '2016-07-29', '2016-07-30', '2016-07-31'],\n",
       "              dtype='datetime64[ns]', freq='D')"
      ]
     },
     "execution_count": 84,
     "metadata": {},
     "output_type": "execute_result"
    }
   ],
   "source": [
    "forecast.index"
   ]
  },
  {
   "cell_type": "code",
   "execution_count": 85,
   "metadata": {
    "collapsed": true
   },
   "outputs": [],
   "source": [
    "#create a dataframe for the predictions\n",
    "df_forecast = pd.DataFrame(data=forecast.values, index=forecast.index,columns=['Forecast'])"
   ]
  },
  {
   "cell_type": "code",
   "execution_count": 86,
   "metadata": {
    "collapsed": true
   },
   "outputs": [],
   "source": [
    "#month of july\n",
    "df_forecast['Forecast_M'] = df_forecast['Forecast']+month_mean[7]"
   ]
  },
  {
   "cell_type": "code",
   "execution_count": 87,
   "metadata": {},
   "outputs": [
    {
     "data": {
      "text/html": [
       "<div>\n",
       "<style>\n",
       "    .dataframe thead tr:only-child th {\n",
       "        text-align: right;\n",
       "    }\n",
       "\n",
       "    .dataframe thead th {\n",
       "        text-align: left;\n",
       "    }\n",
       "\n",
       "    .dataframe tbody tr th {\n",
       "        vertical-align: top;\n",
       "    }\n",
       "</style>\n",
       "<table border=\"1\" class=\"dataframe\">\n",
       "  <thead>\n",
       "    <tr style=\"text-align: right;\">\n",
       "      <th></th>\n",
       "      <th>Forecast</th>\n",
       "      <th>Forecast_M</th>\n",
       "    </tr>\n",
       "  </thead>\n",
       "  <tbody>\n",
       "    <tr>\n",
       "      <th>2016-06-30</th>\n",
       "      <td>-3.874146</td>\n",
       "      <td>-7.285400</td>\n",
       "    </tr>\n",
       "    <tr>\n",
       "      <th>2016-07-01</th>\n",
       "      <td>-1.863018</td>\n",
       "      <td>-5.274272</td>\n",
       "    </tr>\n",
       "    <tr>\n",
       "      <th>2016-07-02</th>\n",
       "      <td>-0.896464</td>\n",
       "      <td>-4.307719</td>\n",
       "    </tr>\n",
       "    <tr>\n",
       "      <th>2016-07-03</th>\n",
       "      <td>-0.431936</td>\n",
       "      <td>-3.843191</td>\n",
       "    </tr>\n",
       "    <tr>\n",
       "      <th>2016-07-04</th>\n",
       "      <td>-0.208683</td>\n",
       "      <td>-3.619937</td>\n",
       "    </tr>\n",
       "  </tbody>\n",
       "</table>\n",
       "</div>"
      ],
      "text/plain": [
       "            Forecast  Forecast_M\n",
       "2016-06-30 -3.874146   -7.285400\n",
       "2016-07-01 -1.863018   -5.274272\n",
       "2016-07-02 -0.896464   -4.307719\n",
       "2016-07-03 -0.431936   -3.843191\n",
       "2016-07-04 -0.208683   -3.619937"
      ]
     },
     "execution_count": 87,
     "metadata": {},
     "output_type": "execute_result"
    }
   ],
   "source": [
    "df_forecast.head()"
   ]
  },
  {
   "cell_type": "code",
   "execution_count": 88,
   "metadata": {
    "collapsed": true
   },
   "outputs": [],
   "source": [
    "df_forecast['dayOfWeek'] = df_forecast.index.map(lambda x: x.weekday)"
   ]
  },
  {
   "cell_type": "code",
   "execution_count": 89,
   "metadata": {
    "collapsed": true
   },
   "outputs": [],
   "source": [
    "dayOfWeek={0:'Monday', 1:'Tuesday', 2:'Wednesday', 3:'Thursday', 4:'Friday', 5:'Saturday', 6:'Sunday'}\n",
    "\n",
    "def week_season_func_back(row):\n",
    "    return row['Forecast_M']+week_day_mean[dayOfWeek[row['dayOfWeek']]]\n",
    "\n",
    "df_forecast['Forecast_M_D'] = df_forecast.apply(week_season_func_back, axis=1)"
   ]
  },
  {
   "cell_type": "code",
   "execution_count": 90,
   "metadata": {},
   "outputs": [
    {
     "data": {
      "text/html": [
       "<div>\n",
       "<style>\n",
       "    .dataframe thead tr:only-child th {\n",
       "        text-align: right;\n",
       "    }\n",
       "\n",
       "    .dataframe thead th {\n",
       "        text-align: left;\n",
       "    }\n",
       "\n",
       "    .dataframe tbody tr th {\n",
       "        vertical-align: top;\n",
       "    }\n",
       "</style>\n",
       "<table border=\"1\" class=\"dataframe\">\n",
       "  <thead>\n",
       "    <tr style=\"text-align: right;\">\n",
       "      <th></th>\n",
       "      <th>Forecast</th>\n",
       "      <th>Forecast_M</th>\n",
       "      <th>dayOfWeek</th>\n",
       "      <th>Forecast_M_D</th>\n",
       "    </tr>\n",
       "  </thead>\n",
       "  <tbody>\n",
       "    <tr>\n",
       "      <th>2016-06-30</th>\n",
       "      <td>-3.874146</td>\n",
       "      <td>-7.285400</td>\n",
       "      <td>3</td>\n",
       "      <td>-7.866303</td>\n",
       "    </tr>\n",
       "    <tr>\n",
       "      <th>2016-07-01</th>\n",
       "      <td>-1.863018</td>\n",
       "      <td>-5.274272</td>\n",
       "      <td>4</td>\n",
       "      <td>-4.246775</td>\n",
       "    </tr>\n",
       "    <tr>\n",
       "      <th>2016-07-02</th>\n",
       "      <td>-0.896464</td>\n",
       "      <td>-4.307719</td>\n",
       "      <td>5</td>\n",
       "      <td>-2.263801</td>\n",
       "    </tr>\n",
       "    <tr>\n",
       "      <th>2016-07-03</th>\n",
       "      <td>-0.431936</td>\n",
       "      <td>-3.843191</td>\n",
       "      <td>6</td>\n",
       "      <td>-2.116178</td>\n",
       "    </tr>\n",
       "    <tr>\n",
       "      <th>2016-07-04</th>\n",
       "      <td>-0.208683</td>\n",
       "      <td>-3.619937</td>\n",
       "      <td>0</td>\n",
       "      <td>-3.028259</td>\n",
       "    </tr>\n",
       "  </tbody>\n",
       "</table>\n",
       "</div>"
      ],
      "text/plain": [
       "            Forecast  Forecast_M  dayOfWeek  Forecast_M_D\n",
       "2016-06-30 -3.874146   -7.285400          3     -7.866303\n",
       "2016-07-01 -1.863018   -5.274272          4     -4.246775\n",
       "2016-07-02 -0.896464   -4.307719          5     -2.263801\n",
       "2016-07-03 -0.431936   -3.843191          6     -2.116178\n",
       "2016-07-04 -0.208683   -3.619937          0     -3.028259"
      ]
     },
     "execution_count": 90,
     "metadata": {},
     "output_type": "execute_result"
    }
   ],
   "source": [
    "df_forecast.head()"
   ]
  },
  {
   "cell_type": "code",
   "execution_count": 91,
   "metadata": {},
   "outputs": [
    {
     "data": {
      "text/plain": [
       "<matplotlib.axes._subplots.AxesSubplot at 0x1c20e95a90>"
      ]
     },
     "execution_count": 91,
     "metadata": {},
     "output_type": "execute_result"
    },
    {
     "data": {
      "image/png": "[encoded data removed]",
      "text/plain": [
       "<matplotlib.figure.Figure at 0x1c1f6ea908>"
      ]
     },
     "metadata": {},
     "output_type": "display_data"
    }
   ],
   "source": [
    "df_forecast['Forecast_M_D'].plot()"
   ]
  },
  {
   "cell_type": "markdown",
   "metadata": {},
   "source": [
    "## Add the trend"
   ]
  },
  {
   "cell_type": "code",
   "execution_count": 92,
   "metadata": {
    "collapsed": true
   },
   "outputs": [],
   "source": [
    "#Add an extra day for july since I removed the cloudy last day of the data set\n",
    "xdata_fore = np.arange(0,len(ts_cc_clear_inter+32))"
   ]
  },
  {
   "cell_type": "code",
   "execution_count": 93,
   "metadata": {
    "collapsed": true
   },
   "outputs": [],
   "source": [
    "background_trend_ext = func(xdata_fore, *popt)"
   ]
  },
  {
   "cell_type": "code",
   "execution_count": 94,
   "metadata": {
    "collapsed": true
   },
   "outputs": [],
   "source": [
    "df_forecast['Forecast_M_D_T'] = df_forecast['Forecast_M_D'] + background_trend_ext[-32:]"
   ]
  },
  {
   "cell_type": "code",
   "execution_count": 95,
   "metadata": {
    "collapsed": true
   },
   "outputs": [],
   "source": [
    "forecast_m_d_t = df_forecast['Forecast_M_D_T']"
   ]
  },
  {
   "cell_type": "code",
   "execution_count": 96,
   "metadata": {},
   "outputs": [
    {
     "data": {
      "text/plain": [
       "<matplotlib.axes._subplots.AxesSubplot at 0x1c20f4a2e8>"
      ]
     },
     "execution_count": 96,
     "metadata": {},
     "output_type": "execute_result"
    },
    {
     "data": {
      "image/png": "[encoded data removed]",
      "text/plain": [
       "<matplotlib.figure.Figure at 0x1c20f55860>"
      ]
     },
     "metadata": {},
     "output_type": "display_data"
    }
   ],
   "source": [
    "forecast_m_d_t.plot()\n",
    "plt.fill_between(x=forecast.index, y1=forecast_m_d_t.values-1.96*stderr.values, \n",
    "                 y2=forecast_m_d_t.values+1.96*stderr.values) \n",
    "forecast_m_d_t.plot()"
   ]
  },
  {
   "cell_type": "code",
   "execution_count": 97,
   "metadata": {
    "scrolled": true
   },
   "outputs": [
    {
     "data": {
      "text/html": [
       "<div>\n",
       "<style>\n",
       "    .dataframe thead tr:only-child th {\n",
       "        text-align: right;\n",
       "    }\n",
       "\n",
       "    .dataframe thead th {\n",
       "        text-align: left;\n",
       "    }\n",
       "\n",
       "    .dataframe tbody tr th {\n",
       "        vertical-align: top;\n",
       "    }\n",
       "</style>\n",
       "<table border=\"1\" class=\"dataframe\">\n",
       "  <thead>\n",
       "    <tr style=\"text-align: right;\">\n",
       "      <th></th>\n",
       "      <th>count</th>\n",
       "      <th>mean</th>\n",
       "      <th>std</th>\n",
       "      <th>min</th>\n",
       "      <th>25%</th>\n",
       "      <th>50%</th>\n",
       "      <th>75%</th>\n",
       "      <th>max</th>\n",
       "    </tr>\n",
       "    <tr>\n",
       "      <th>dayOfWeek</th>\n",
       "      <th></th>\n",
       "      <th></th>\n",
       "      <th></th>\n",
       "      <th></th>\n",
       "      <th></th>\n",
       "      <th></th>\n",
       "      <th></th>\n",
       "      <th></th>\n",
       "    </tr>\n",
       "  </thead>\n",
       "  <tbody>\n",
       "    <tr>\n",
       "      <th>0</th>\n",
       "      <td>4.0</td>\n",
       "      <td>109.714630</td>\n",
       "      <td>0.110973</td>\n",
       "      <td>109.549103</td>\n",
       "      <td>109.704757</td>\n",
       "      <td>109.762145</td>\n",
       "      <td>109.772018</td>\n",
       "      <td>109.785125</td>\n",
       "    </tr>\n",
       "    <tr>\n",
       "      <th>1</th>\n",
       "      <td>4.0</td>\n",
       "      <td>106.642176</td>\n",
       "      <td>0.059207</td>\n",
       "      <td>106.555328</td>\n",
       "      <td>106.631798</td>\n",
       "      <td>106.663023</td>\n",
       "      <td>106.673401</td>\n",
       "      <td>106.687332</td>\n",
       "    </tr>\n",
       "    <tr>\n",
       "      <th>2</th>\n",
       "      <td>4.0</td>\n",
       "      <td>106.864352</td>\n",
       "      <td>0.035764</td>\n",
       "      <td>106.814466</td>\n",
       "      <td>106.853303</td>\n",
       "      <td>106.872378</td>\n",
       "      <td>106.883427</td>\n",
       "      <td>106.898185</td>\n",
       "    </tr>\n",
       "    <tr>\n",
       "      <th>3</th>\n",
       "      <td>5.0</td>\n",
       "      <td>107.817160</td>\n",
       "      <td>1.735313</td>\n",
       "      <td>104.713200</td>\n",
       "      <td>108.560177</td>\n",
       "      <td>108.588409</td>\n",
       "      <td>108.601617</td>\n",
       "      <td>108.622399</td>\n",
       "    </tr>\n",
       "    <tr>\n",
       "      <th>4</th>\n",
       "      <td>5.0</td>\n",
       "      <td>109.831591</td>\n",
       "      <td>0.838547</td>\n",
       "      <td>108.331963</td>\n",
       "      <td>110.180799</td>\n",
       "      <td>110.198278</td>\n",
       "      <td>110.212513</td>\n",
       "      <td>110.234400</td>\n",
       "    </tr>\n",
       "    <tr>\n",
       "      <th>5</th>\n",
       "      <td>5.0</td>\n",
       "      <td>111.044038</td>\n",
       "      <td>0.408367</td>\n",
       "      <td>110.314325</td>\n",
       "      <td>111.203410</td>\n",
       "      <td>111.216286</td>\n",
       "      <td>111.231586</td>\n",
       "      <td>111.254582</td>\n",
       "    </tr>\n",
       "    <tr>\n",
       "      <th>6</th>\n",
       "      <td>5.0</td>\n",
       "      <td>110.822312</td>\n",
       "      <td>0.202642</td>\n",
       "      <td>110.461489</td>\n",
       "      <td>110.889877</td>\n",
       "      <td>110.901108</td>\n",
       "      <td>110.917491</td>\n",
       "      <td>110.941596</td>\n",
       "    </tr>\n",
       "  </tbody>\n",
       "</table>\n",
       "</div>"
      ],
      "text/plain": [
       "           count        mean       std         min         25%         50%  \\\n",
       "dayOfWeek                                                                    \n",
       "0            4.0  109.714630  0.110973  109.549103  109.704757  109.762145   \n",
       "1            4.0  106.642176  0.059207  106.555328  106.631798  106.663023   \n",
       "2            4.0  106.864352  0.035764  106.814466  106.853303  106.872378   \n",
       "3            5.0  107.817160  1.735313  104.713200  108.560177  108.588409   \n",
       "4            5.0  109.831591  0.838547  108.331963  110.180799  110.198278   \n",
       "5            5.0  111.044038  0.408367  110.314325  111.203410  111.216286   \n",
       "6            5.0  110.822312  0.202642  110.461489  110.889877  110.901108   \n",
       "\n",
       "                  75%         max  \n",
       "dayOfWeek                          \n",
       "0          109.772018  109.785125  \n",
       "1          106.673401  106.687332  \n",
       "2          106.883427  106.898185  \n",
       "3          108.601617  108.622399  \n",
       "4          110.212513  110.234400  \n",
       "5          111.231586  111.254582  \n",
       "6          110.917491  110.941596  "
      ]
     },
     "execution_count": 97,
     "metadata": {},
     "output_type": "execute_result"
    }
   ],
   "source": [
    "df_forecast.groupby('dayOfWeek').describe()['Forecast_M_D_T']"
   ]
  },
  {
   "cell_type": "markdown",
   "metadata": {},
   "source": [
    "### Observation\n",
    "-Saturday and Tuesday is correctly predicted to have the most and least amount of cars\n",
    "Note: this was not the case when I used a sinusoidal function to remove the weekly effect, which is why I reiterated \n",
    "    and removed the mean instead. "
   ]
  },
  {
   "cell_type": "markdown",
   "metadata": {},
   "source": [
    "# Requested forecast of July (orange), blue 95% confidence interval"
   ]
  },
  {
   "cell_type": "code",
   "execution_count": 98,
   "metadata": {},
   "outputs": [
    {
     "data": {
      "image/png": "[encoded data removed]",
      "text/plain": [
       "<matplotlib.figure.Figure at 0x1c1f26f438>"
      ]
     },
     "metadata": {},
     "output_type": "display_data"
    }
   ],
   "source": [
    "plt.figure(figsize=(12,7))\n",
    "\n",
    "plt.plot(ts_cc_clear_inter.iloc[-100:])\n",
    "plt.fill_between(x=forecast.index, y1=forecast_m_d_t.values-1.96*stderr.values, \n",
    "                 y2=forecast_m_d_t.values+1.96*stderr.values) \n",
    "forecast_m_d_t.plot()\n",
    "plt.title('Forecast 32 days ahead with AR(1)');"
   ]
  },
  {
   "cell_type": "markdown",
   "metadata": {},
   "source": [
    "# Summary\n",
    "\n",
    "- The data used for the forecast was the previous 5 years of car counts after the trend and seasonal effects had been removed. A 3d order poynomial was fitted to be the background trend. Weekly and monthly mean was subtracted from the car counts. This so the time series would be stationary before fitting the data to a AR(1) process. \n",
    "\n",
    "- The AR(1) process would probably give an ok estimate for the first 5-7 days. However, as we can see in the past (training data), there is a lot more variation in the data that seem to be lost within the forecast. Since the AR(1) process is basically just anchored to its last value, it does not have much support for future predictions as we accumulate uncertainty in the predicted data with time. Perhaps a different model then AR(1) could do better, but that is for future discovery. \n",
    "\n",
    "Some things that could possibly improve the model: \n",
    "- Look at the images for days that have most cars (possible outliers) to see if this is an accurate estimate or not. Try removing them and see if the forecast seem to be more reasonable.  \n",
    "- Make a better prediction of cloudy days data, might be able to remove the trend and then use which month and day it was to predict the cloudy days data. \n",
    "- I could also have looked at the seasonal effects within the months, considering everyone gets paid about the same time. Expect more cars straight after payday. \n",
    "\n",
    "Question that if answered might improve the model: \n",
    "- How is the car counts accouired? Are they a snap shot in time or accumulation throughout the day. Accumulation throughout the day would probably give a more fair estimate. \n"
   ]
  }
 ],
 "metadata": {
  "kernelspec": {
   "display_name": "Python 3",
   "language": "python",
   "name": "python3"
  },
  "language_info": {
   "codemirror_mode": {
    "name": "ipython",
    "version": 3
   },
   "file_extension": ".py",
   "mimetype": "text/x-python",
   "name": "python",
   "nbconvert_exporter": "python",
   "pygments_lexer": "ipython3",
   "version": "3.6.3"
  }
 },
 "nbformat": 4,
 "nbformat_minor": 2
}
